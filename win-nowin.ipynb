{
 "cells": [
  {
   "cell_type": "markdown",
   "id": "4738199c",
   "metadata": {},
   "source": [
    "# 2023-1 데이터사이언스 4조 Half-Time-Analyze - win/nowin\n",
    "- 축구 경기의 전반전 내용을 기반으로 경기 결과 예측 모형 - win/nowin\n",
    "\n",
    "- 미리 엑셀 함수를 이용하여 win/draw/lose 결과를 골을 비교하여 변수로 만들어 놓음. (W/D/L)\n",
    "- 미리 엑셀에서 soccer3.csv에만 추가되어있던 열들을 삭제 처리\n"
   ]
  },
  {
   "cell_type": "markdown",
   "id": "d5735c82",
   "metadata": {},
   "source": [
    "#### [데이터 설명]\n",
    "- 데이터 : [https://www.xscores.com/soccer/england/premier-league/results]에서 제공하는 EPL 2022-2023 시즌 경기 stats 데이터를 크롤링하여 데이터셋으로 사용\n",
    "- EPL리그 한 시즌 당 경기 수 : 380경기\n",
    "- 분석 당시까지 진행된 데이터 : 268경기\n",
    "- 관측치 개수: 530개\n",
    "- 변수 개수: 독립변수 9개 / 종속변수 1개\n",
    "\n",
    "\n",
    "#### 독립변수 (전반전 경기 내용)\n",
    "- homeAway : 해당 팀이 홈 경기인지 원정 경기인지(home ; 1, away : 0)\n",
    "- Ball_Possession_1st_Half : 전반전 경기 총 패스 수 대비 해당 팀의 패스 수/ 전반전 중 해당 팀이 공을 차지하고 있는 비율\n",
    "- Corners_1st_Half : 전반전 내 해당 팀의 코너킥 개수\n",
    "- Fouls_Commited_1st_Half : 전반전 내 해당 팀의 파울 개수\n",
    "- Goals_1st_Half : 전반전 내 해당 팀의 골 개수\n",
    "- Red_Cards_1st_Half : 전반전 내 해당 팀의 레드카드 개수\n",
    "- Shots_On_1st_Half : 전반전 내 해당 팀의 유효슈팅 개수\n",
    "- Yellow_Cards_1st_Half : 전반전 내 해당 팀의 옐로카드 개수\n",
    "- Shots_1st_Half : 전반전 내 해당 팀의 슈팅 개수\n",
    " \n",
    "#### 종속변수 (승/비승)\n",
    "- Result (win : 1, nowin : 0)"
   ]
  },
  {
   "cell_type": "markdown",
   "id": "a474a420",
   "metadata": {},
   "source": [
    "## 1. 데이터 가져오기"
   ]
  },
  {
   "cell_type": "markdown",
   "id": "4ab94c74",
   "metadata": {},
   "source": [
    "### (1)크롤링한 전체 경기 데이터 가져오기, 병합\n",
    "- 데이터가 3개의 csv파일로 나눠져 있음\n",
    "- excel에서 미리 win/draw/lose 결과를 골로 비교하여 열 생성(D/W/L)\n",
    "- 미리 엑셀에서 soccer3.csv에만 추가되어있던 열들을 삭제 처리\n",
    "\n",
    "- soccer_df1 데이터 갯수 : 64\n",
    "- soccer_df2 데이터 갯수 : 300\n",
    "- soccer_df3 데이터 갯수 : 172\n",
    "- total = 536"
   ]
  },
  {
   "cell_type": "code",
   "execution_count": 108,
   "id": "7f5a6058",
   "metadata": {},
   "outputs": [],
   "source": [
    "import numpy as np\n",
    "import pandas as pd"
   ]
  },
  {
   "cell_type": "code",
   "execution_count": 109,
   "id": "ab0cce09",
   "metadata": {},
   "outputs": [],
   "source": [
    "soccer_df1 = pd.read_csv('C:/half-time-analyze/win-nonwin/res/soccer.csv', header = 0, engine = 'python')\n",
    "soccer_df2 = pd.read_csv('C:/half-time-analyze/win-nonwin/res/soccer2.csv', header = 0, engine = 'python')\n",
    "soccer_df3 = pd.read_csv('C:/half-time-analyze/win-nonwin/res/soccer3.csv', header = 0, engine = 'python')"
   ]
  },
  {
   "cell_type": "code",
   "execution_count": 110,
   "id": "d2b9f9fa",
   "metadata": {},
   "outputs": [
    {
     "name": "stdout",
     "output_type": "stream",
     "text": [
      "<class 'pandas.core.frame.DataFrame'>\n",
      "RangeIndex: 64 entries, 0 to 63\n",
      "Data columns (total 61 columns):\n",
      " #   Column                    Non-Null Count  Dtype  \n",
      "---  ------                    --------------  -----  \n",
      " 0   Match_date                64 non-null     object \n",
      " 1   teamName                  64 non-null     object \n",
      " 2   homeAway                  64 non-null     int64  \n",
      " 3   Ball Possession           64 non-null     int64  \n",
      " 4   Goal Attempts             64 non-null     int64  \n",
      " 5   Shots On                  64 non-null     int64  \n",
      " 6   Shots Off                 64 non-null     int64  \n",
      " 7   Blocked Shots             64 non-null     int64  \n",
      " 8   Free kick                 64 non-null     int64  \n",
      " 9   Offsides                  64 non-null     int64  \n",
      " 10  Throw Ins                 64 non-null     int64  \n",
      " 11  Saves                     64 non-null     int64  \n",
      " 12  Fouls Commited            64 non-null     int64  \n",
      " 13  Red Cards                 64 non-null     int64  \n",
      " 14  Yellow Cards              64 non-null     int64  \n",
      " 15  Assists 1st Half          64 non-null     int64  \n",
      " 16  Assists 2nd Half          64 non-null     int64  \n",
      " 17  Ball Possession 1st Half  64 non-null     int64  \n",
      " 18  Ball Possession 2nd Half  64 non-null     int64  \n",
      " 19  Blockes Shots 1st Half    64 non-null     int64  \n",
      " 20  Blockes Shots 2nd Half    64 non-null     int64  \n",
      " 21  Corners                   64 non-null     int64  \n",
      " 22  Corners 1st Half          64 non-null     int64  \n",
      " 23  Corners 2nd Half          64 non-null     int64  \n",
      " 24  Counter Attacks           64 non-null     int64  \n",
      " 25  Counter Attacks 1st Half  64 non-null     int64  \n",
      " 26  Counter Attacks 2nd Half  64 non-null     int64  \n",
      " 27  Crosses                   64 non-null     int64  \n",
      " 28  Crosses 1st Half          64 non-null     int64  \n",
      " 29  Crosses 2nd Half          64 non-null     int64  \n",
      " 30  Fouls Commited 1st Half   64 non-null     int64  \n",
      " 31  Fouls Commited 2nd Half   64 non-null     int64  \n",
      " 32  Free kick 1st Half        64 non-null     int64  \n",
      " 33  Free kick 2nd Half        64 non-null     int64  \n",
      " 34  Goal Attempts 1st Half    64 non-null     int64  \n",
      " 35  Goal Attempts 2nd Half    44 non-null     float64\n",
      " 36  Goal Kick                 64 non-null     int64  \n",
      " 37  Goal Kick 1st Half        64 non-null     int64  \n",
      " 38  Goal Kick 2nd Half        64 non-null     int64  \n",
      " 39  Goals 1st Half            64 non-null     int64  \n",
      " 40  Goals 2nd Half            64 non-null     int64  \n",
      " 41  Offsides 1st Half         64 non-null     int64  \n",
      " 42  Offsides 2nd Half         64 non-null     int64  \n",
      " 43  Red Cards 1st Half        64 non-null     int64  \n",
      " 44  Red Cards 2nd Half        44 non-null     float64\n",
      " 45  Saves 1st Half            64 non-null     int64  \n",
      " 46  Saves 2nd Half            64 non-null     int64  \n",
      " 47  Shots Off 1st Half        64 non-null     int64  \n",
      " 48  Shots Off 2nd Half        64 non-null     int64  \n",
      " 49  Shots On 1st Half         64 non-null     int64  \n",
      " 50  Shots On 2nd Half         64 non-null     int64  \n",
      " 51  Substitute                64 non-null     int64  \n",
      " 52  Substitute 1st Half       64 non-null     int64  \n",
      " 53  Substitute 2nd Half       64 non-null     int64  \n",
      " 54  Throw Ins 1st Half        64 non-null     int64  \n",
      " 55  Throw Ins 2nd Half        64 non-null     int64  \n",
      " 56  Treatment 1st Half        64 non-null     int64  \n",
      " 57  Treatment 2nd Half        64 non-null     int64  \n",
      " 58  Yellow Cards 1st Half     64 non-null     int64  \n",
      " 59  Yellow Cards 2nd Half     44 non-null     float64\n",
      " 60  Result                    64 non-null     object \n",
      "dtypes: float64(3), int64(55), object(3)\n",
      "memory usage: 30.6+ KB\n"
     ]
    }
   ],
   "source": [
    "#데이터 확인\n",
    "soccer_df1.info()"
   ]
  },
  {
   "cell_type": "code",
   "execution_count": 111,
   "id": "10dd83a3",
   "metadata": {},
   "outputs": [
    {
     "name": "stdout",
     "output_type": "stream",
     "text": [
      "<class 'pandas.core.frame.DataFrame'>\n",
      "RangeIndex: 300 entries, 0 to 299\n",
      "Data columns (total 61 columns):\n",
      " #   Column                    Non-Null Count  Dtype  \n",
      "---  ------                    --------------  -----  \n",
      " 0   Match_date                300 non-null    object \n",
      " 1   teamName                  300 non-null    object \n",
      " 2   homeAway                  300 non-null    int64  \n",
      " 3   Ball Possession           298 non-null    float64\n",
      " 4   Goal Attempts             298 non-null    float64\n",
      " 5   Shots On                  298 non-null    float64\n",
      " 6   Shots Off                 298 non-null    float64\n",
      " 7   Blocked Shots             298 non-null    float64\n",
      " 8   Free kick                 298 non-null    float64\n",
      " 9   Offsides                  298 non-null    float64\n",
      " 10  Throw Ins                 298 non-null    float64\n",
      " 11  Saves                     298 non-null    float64\n",
      " 12  Fouls Commited            298 non-null    float64\n",
      " 13  Red Cards                 298 non-null    float64\n",
      " 14  Yellow Cards              298 non-null    float64\n",
      " 15  Assists 1st Half          298 non-null    float64\n",
      " 16  Assists 2nd Half          298 non-null    float64\n",
      " 17  Ball Possession 1st Half  298 non-null    float64\n",
      " 18  Ball Possession 2nd Half  298 non-null    float64\n",
      " 19  Blockes Shots 1st Half    298 non-null    float64\n",
      " 20  Blockes Shots 2nd Half    298 non-null    float64\n",
      " 21  Corners                   298 non-null    float64\n",
      " 22  Corners 1st Half          298 non-null    float64\n",
      " 23  Corners 2nd Half          298 non-null    float64\n",
      " 24  Counter Attacks           298 non-null    float64\n",
      " 25  Counter Attacks 1st Half  298 non-null    float64\n",
      " 26  Counter Attacks 2nd Half  298 non-null    float64\n",
      " 27  Crosses                   298 non-null    float64\n",
      " 28  Crosses 1st Half          298 non-null    float64\n",
      " 29  Crosses 2nd Half          298 non-null    float64\n",
      " 30  Fouls Commited 1st Half   298 non-null    float64\n",
      " 31  Fouls Commited 2nd Half   298 non-null    float64\n",
      " 32  Free kick 1st Half        298 non-null    float64\n",
      " 33  Free kick 2nd Half        298 non-null    float64\n",
      " 34  Goal Attempts 1st Half    296 non-null    float64\n",
      " 35  Goal Attempts 2nd Half    276 non-null    float64\n",
      " 36  Goal Kick                 298 non-null    float64\n",
      " 37  Goal Kick 1st Half        298 non-null    float64\n",
      " 38  Goal Kick 2nd Half        298 non-null    float64\n",
      " 39  Goals 1st Half            298 non-null    float64\n",
      " 40  Goals 2nd Half            298 non-null    float64\n",
      " 41  Offsides 1st Half         298 non-null    float64\n",
      " 42  Offsides 2nd Half         298 non-null    float64\n",
      " 43  Red Cards 1st Half        298 non-null    float64\n",
      " 44  Red Cards 2nd Half        276 non-null    float64\n",
      " 45  Saves 1st Half            298 non-null    float64\n",
      " 46  Saves 2nd Half            298 non-null    float64\n",
      " 47  Shots Off 1st Half        298 non-null    float64\n",
      " 48  Shots Off 2nd Half        298 non-null    float64\n",
      " 49  Shots On 1st Half         298 non-null    float64\n",
      " 50  Shots On 2nd Half         298 non-null    float64\n",
      " 51  Substitute                298 non-null    float64\n",
      " 52  Substitute 1st Half       298 non-null    float64\n",
      " 53  Substitute 2nd Half       298 non-null    float64\n",
      " 54  Throw Ins 1st Half        298 non-null    float64\n",
      " 55  Throw Ins 2nd Half        298 non-null    float64\n",
      " 56  Treatment 1st Half        298 non-null    float64\n",
      " 57  Treatment 2nd Half        298 non-null    float64\n",
      " 58  Yellow Cards 1st Half     298 non-null    float64\n",
      " 59  Yellow Cards 2nd Half     276 non-null    float64\n",
      " 60  Result                    298 non-null    object \n",
      "dtypes: float64(57), int64(1), object(3)\n",
      "memory usage: 143.1+ KB\n"
     ]
    }
   ],
   "source": [
    "soccer_df2.info()"
   ]
  },
  {
   "cell_type": "code",
   "execution_count": 112,
   "id": "6bba9772",
   "metadata": {},
   "outputs": [
    {
     "name": "stdout",
     "output_type": "stream",
     "text": [
      "<class 'pandas.core.frame.DataFrame'>\n",
      "RangeIndex: 172 entries, 0 to 171\n",
      "Data columns (total 61 columns):\n",
      " #   Column                    Non-Null Count  Dtype  \n",
      "---  ------                    --------------  -----  \n",
      " 0   Match_date                172 non-null    object \n",
      " 1   teamName                  172 non-null    object \n",
      " 2   homeAway                  172 non-null    int64  \n",
      " 3   Ball Possession           168 non-null    float64\n",
      " 4   Goal Attempts             168 non-null    float64\n",
      " 5   Shots On                  168 non-null    float64\n",
      " 6   Shots Off                 168 non-null    float64\n",
      " 7   Blocked Shots             168 non-null    float64\n",
      " 8   Free kick                 168 non-null    float64\n",
      " 9   Offsides                  168 non-null    float64\n",
      " 10  Throw Ins                 168 non-null    float64\n",
      " 11  Saves                     168 non-null    float64\n",
      " 12  Fouls Commited            168 non-null    float64\n",
      " 13  Red Cards                 168 non-null    float64\n",
      " 14  Yellow Cards              168 non-null    float64\n",
      " 15  Assists 1st Half          168 non-null    float64\n",
      " 16  Assists 2nd Half          168 non-null    float64\n",
      " 17  Ball Possession 1st Half  168 non-null    float64\n",
      " 18  Ball Possession 2nd Half  168 non-null    float64\n",
      " 19  Blockes Shots 1st Half    168 non-null    float64\n",
      " 20  Blockes Shots 2nd Half    168 non-null    float64\n",
      " 21  Corners                   168 non-null    float64\n",
      " 22  Corners 1st Half          168 non-null    float64\n",
      " 23  Corners 2nd Half          168 non-null    float64\n",
      " 24  Counter Attacks           168 non-null    float64\n",
      " 25  Counter Attacks 1st Half  168 non-null    float64\n",
      " 26  Counter Attacks 2nd Half  168 non-null    float64\n",
      " 27  Crosses                   168 non-null    float64\n",
      " 28  Crosses 1st Half          168 non-null    float64\n",
      " 29  Crosses 2nd Half          168 non-null    float64\n",
      " 30  Fouls Commited 1st Half   168 non-null    float64\n",
      " 31  Fouls Commited 2nd Half   168 non-null    float64\n",
      " 32  Free kick 1st Half        168 non-null    float64\n",
      " 33  Free kick 2nd Half        168 non-null    float64\n",
      " 34  Goal Attempts 1st Half    168 non-null    float64\n",
      " 35  Goal Attempts 2nd Half    168 non-null    float64\n",
      " 36  Goal Kick                 168 non-null    float64\n",
      " 37  Goal Kick 1st Half        168 non-null    float64\n",
      " 38  Goal Kick 2nd Half        168 non-null    float64\n",
      " 39  Goals 1st Half            168 non-null    float64\n",
      " 40  Goals 2nd Half            168 non-null    float64\n",
      " 41  Offsides 1st Half         168 non-null    float64\n",
      " 42  Offsides 2nd Half         168 non-null    float64\n",
      " 43  Red Cards 1st Half        168 non-null    float64\n",
      " 44  Red Cards 2nd Half        168 non-null    float64\n",
      " 45  Saves 1st Half            168 non-null    float64\n",
      " 46  Saves 2nd Half            168 non-null    float64\n",
      " 47  Shots Off 1st Half        168 non-null    float64\n",
      " 48  Shots Off 2nd Half        168 non-null    float64\n",
      " 49  Shots On 1st Half         168 non-null    float64\n",
      " 50  Shots On 2nd Half         168 non-null    float64\n",
      " 51  Substitute                168 non-null    float64\n",
      " 52  Substitute 1st Half       168 non-null    float64\n",
      " 53  Substitute 2nd Half       168 non-null    float64\n",
      " 54  Throw Ins 1st Half        168 non-null    float64\n",
      " 55  Throw Ins 2nd Half        168 non-null    float64\n",
      " 56  Treatment 1st Half        168 non-null    float64\n",
      " 57  Treatment 2nd Half        168 non-null    float64\n",
      " 58  Yellow Cards 1st Half     168 non-null    float64\n",
      " 59  Yellow Cards 2nd Half     168 non-null    float64\n",
      " 60  Result                    168 non-null    object \n",
      "dtypes: float64(57), int64(1), object(3)\n",
      "memory usage: 82.1+ KB\n"
     ]
    }
   ],
   "source": [
    "soccer_df3.info()"
   ]
  },
  {
   "cell_type": "code",
   "execution_count": 113,
   "id": "6dfa060e",
   "metadata": {},
   "outputs": [
    {
     "name": "stdout",
     "output_type": "stream",
     "text": [
      "<class 'pandas.core.frame.DataFrame'>\n",
      "Int64Index: 536 entries, 0 to 171\n",
      "Data columns (total 61 columns):\n",
      " #   Column                    Non-Null Count  Dtype  \n",
      "---  ------                    --------------  -----  \n",
      " 0   Match_date                536 non-null    object \n",
      " 1   teamName                  536 non-null    object \n",
      " 2   homeAway                  536 non-null    int64  \n",
      " 3   Ball Possession           530 non-null    float64\n",
      " 4   Goal Attempts             530 non-null    float64\n",
      " 5   Shots On                  530 non-null    float64\n",
      " 6   Shots Off                 530 non-null    float64\n",
      " 7   Blocked Shots             530 non-null    float64\n",
      " 8   Free kick                 530 non-null    float64\n",
      " 9   Offsides                  530 non-null    float64\n",
      " 10  Throw Ins                 530 non-null    float64\n",
      " 11  Saves                     530 non-null    float64\n",
      " 12  Fouls Commited            530 non-null    float64\n",
      " 13  Red Cards                 530 non-null    float64\n",
      " 14  Yellow Cards              530 non-null    float64\n",
      " 15  Assists 1st Half          530 non-null    float64\n",
      " 16  Assists 2nd Half          530 non-null    float64\n",
      " 17  Ball Possession 1st Half  530 non-null    float64\n",
      " 18  Ball Possession 2nd Half  530 non-null    float64\n",
      " 19  Blockes Shots 1st Half    530 non-null    float64\n",
      " 20  Blockes Shots 2nd Half    530 non-null    float64\n",
      " 21  Corners                   530 non-null    float64\n",
      " 22  Corners 1st Half          530 non-null    float64\n",
      " 23  Corners 2nd Half          530 non-null    float64\n",
      " 24  Counter Attacks           530 non-null    float64\n",
      " 25  Counter Attacks 1st Half  530 non-null    float64\n",
      " 26  Counter Attacks 2nd Half  530 non-null    float64\n",
      " 27  Crosses                   530 non-null    float64\n",
      " 28  Crosses 1st Half          530 non-null    float64\n",
      " 29  Crosses 2nd Half          530 non-null    float64\n",
      " 30  Fouls Commited 1st Half   530 non-null    float64\n",
      " 31  Fouls Commited 2nd Half   530 non-null    float64\n",
      " 32  Free kick 1st Half        530 non-null    float64\n",
      " 33  Free kick 2nd Half        530 non-null    float64\n",
      " 34  Goal Attempts 1st Half    528 non-null    float64\n",
      " 35  Goal Attempts 2nd Half    488 non-null    float64\n",
      " 36  Goal Kick                 530 non-null    float64\n",
      " 37  Goal Kick 1st Half        530 non-null    float64\n",
      " 38  Goal Kick 2nd Half        530 non-null    float64\n",
      " 39  Goals 1st Half            530 non-null    float64\n",
      " 40  Goals 2nd Half            530 non-null    float64\n",
      " 41  Offsides 1st Half         530 non-null    float64\n",
      " 42  Offsides 2nd Half         530 non-null    float64\n",
      " 43  Red Cards 1st Half        530 non-null    float64\n",
      " 44  Red Cards 2nd Half        488 non-null    float64\n",
      " 45  Saves 1st Half            530 non-null    float64\n",
      " 46  Saves 2nd Half            530 non-null    float64\n",
      " 47  Shots Off 1st Half        530 non-null    float64\n",
      " 48  Shots Off 2nd Half        530 non-null    float64\n",
      " 49  Shots On 1st Half         530 non-null    float64\n",
      " 50  Shots On 2nd Half         530 non-null    float64\n",
      " 51  Substitute                530 non-null    float64\n",
      " 52  Substitute 1st Half       530 non-null    float64\n",
      " 53  Substitute 2nd Half       530 non-null    float64\n",
      " 54  Throw Ins 1st Half        530 non-null    float64\n",
      " 55  Throw Ins 2nd Half        530 non-null    float64\n",
      " 56  Treatment 1st Half        530 non-null    float64\n",
      " 57  Treatment 2nd Half        530 non-null    float64\n",
      " 58  Yellow Cards 1st Half     530 non-null    float64\n",
      " 59  Yellow Cards 2nd Half     488 non-null    float64\n",
      " 60  Result                    530 non-null    object \n",
      "dtypes: float64(57), int64(1), object(3)\n",
      "memory usage: 259.6+ KB\n"
     ]
    }
   ],
   "source": [
    "#데이터 병합\n",
    "soccer_df = pd.concat([soccer_df1, soccer_df2, soccer_df3])\n",
    "soccer_df.info()"
   ]
  },
  {
   "cell_type": "markdown",
   "id": "9b325c78",
   "metadata": {},
   "source": [
    "- 결측치 존재 -> 사용할 전반전 데이터셋을 추출한 뒤 다시 확인"
   ]
  },
  {
   "cell_type": "markdown",
   "id": "27a141cf",
   "metadata": {},
   "source": [
    "### (2) 전반전 데이터만 분리"
   ]
  },
  {
   "cell_type": "code",
   "execution_count": 114,
   "id": "05180630",
   "metadata": {},
   "outputs": [
    {
     "name": "stdout",
     "output_type": "stream",
     "text": [
      "<class 'pandas.core.frame.DataFrame'>\n",
      "Int64Index: 536 entries, 0 to 171\n",
      "Data columns (total 10 columns):\n",
      " #   Column                    Non-Null Count  Dtype  \n",
      "---  ------                    --------------  -----  \n",
      " 0   homeAway                  536 non-null    int64  \n",
      " 1   Ball Possession 1st Half  530 non-null    float64\n",
      " 2   Corners 1st Half          530 non-null    float64\n",
      " 3   Fouls Commited 1st Half   530 non-null    float64\n",
      " 4   Goals 1st Half            530 non-null    float64\n",
      " 5   Red Cards 1st Half        530 non-null    float64\n",
      " 6   Shots Off 1st Half        530 non-null    float64\n",
      " 7   Shots On 1st Half         530 non-null    float64\n",
      " 8   Yellow Cards 1st Half     530 non-null    float64\n",
      " 9   Result                    530 non-null    object \n",
      "dtypes: float64(8), int64(1), object(1)\n",
      "memory usage: 46.1+ KB\n"
     ]
    }
   ],
   "source": [
    "# 9개의 독립변수와 1개의 종속변수만 추출\n",
    "soccer_half_df = soccer_df[['homeAway', 'Ball Possession 1st Half', 'Corners 1st Half', 'Fouls Commited 1st Half', 'Goals 1st Half', 'Red Cards 1st Half', 'Shots Off 1st Half','Shots On 1st Half', 'Yellow Cards 1st Half', 'Result']]\n",
    "soccer_half_df.info()"
   ]
  },
  {
   "cell_type": "markdown",
   "id": "2dbc903d",
   "metadata": {},
   "source": [
    "- 결측치가 6개인 것을 확인\n",
    "- excel파일 확인 시 6행이 통째로 데이터가 없음을 확인"
   ]
  },
  {
   "cell_type": "markdown",
   "id": "50774404",
   "metadata": {},
   "source": [
    "### (3) 결측치 확인, 결측치 처리\n",
    "- 결측치가 행이 모두 비워져 있는 형태라서 6개의 데이터를 삭제 처리"
   ]
  },
  {
   "cell_type": "code",
   "execution_count": 115,
   "id": "71273f9f",
   "metadata": {},
   "outputs": [
    {
     "data": {
      "text/plain": [
       "homeAway                    0\n",
       "Ball Possession 1st Half    6\n",
       "Corners 1st Half            6\n",
       "Fouls Commited 1st Half     6\n",
       "Goals 1st Half              6\n",
       "Red Cards 1st Half          6\n",
       "Shots Off 1st Half          6\n",
       "Shots On 1st Half           6\n",
       "Yellow Cards 1st Half       6\n",
       "Result                      6\n",
       "dtype: int64"
      ]
     },
     "execution_count": 115,
     "metadata": {},
     "output_type": "execute_result"
    }
   ],
   "source": [
    "#결측치 확인\n",
    "soccer_half_df.isnull().sum()"
   ]
  },
  {
   "cell_type": "code",
   "execution_count": 116,
   "id": "8e758fc4",
   "metadata": {},
   "outputs": [
    {
     "data": {
      "text/plain": [
       "homeAway                    0\n",
       "Ball Possession 1st Half    0\n",
       "Corners 1st Half            0\n",
       "Fouls Commited 1st Half     0\n",
       "Goals 1st Half              0\n",
       "Red Cards 1st Half          0\n",
       "Shots Off 1st Half          0\n",
       "Shots On 1st Half           0\n",
       "Yellow Cards 1st Half       0\n",
       "Result                      0\n",
       "dtype: int64"
      ]
     },
     "execution_count": 116,
     "metadata": {},
     "output_type": "execute_result"
    }
   ],
   "source": [
    "#일단 결측치들이 행이 전부 없으므로 결측치를 제외하고 분석을 진행\n",
    "#결측치가 있는 행을 삭제\n",
    "soccer_half_df2 = soccer_half_df.dropna(axis = 0)\n",
    "soccer_half_df2.isnull().sum()"
   ]
  },
  {
   "cell_type": "markdown",
   "id": "4b43c3f8",
   "metadata": {},
   "source": [
    "- 결측치가 없음을 확인"
   ]
  },
  {
   "cell_type": "markdown",
   "id": "7fb8d17e",
   "metadata": {},
   "source": [
    "### (4) 변수 생성, 변경\n",
    "- Shots 1st Half 변수 생성\n",
    "- Result 변수 value 변경하기(W -> 1, L&D -> 0)\n",
    "- homeAway 값 조정(현재 home = 1, away = 2로 설정되어 있음)\n",
    "- 변수명에 공백을 _로 변경\n",
    "- 데이터 내보내기"
   ]
  },
  {
   "cell_type": "code",
   "execution_count": 117,
   "id": "e1861534",
   "metadata": {},
   "outputs": [
    {
     "name": "stderr",
     "output_type": "stream",
     "text": [
      "C:\\Users\\srsr1\\AppData\\Local\\Temp\\ipykernel_11356\\2276876040.py:4: SettingWithCopyWarning: \n",
      "A value is trying to be set on a copy of a slice from a DataFrame.\n",
      "Try using .loc[row_indexer,col_indexer] = value instead\n",
      "\n",
      "See the caveats in the documentation: https://pandas.pydata.org/pandas-docs/stable/user_guide/indexing.html#returning-a-view-versus-a-copy\n",
      "  soccer_half_df3['Shots 1st Half'] = soccer_half_df2['Shots On 1st Half'] + soccer_half_df2['Shots Off 1st Half']\n"
     ]
    },
    {
     "data": {
      "text/html": [
       "<div>\n",
       "<style scoped>\n",
       "    .dataframe tbody tr th:only-of-type {\n",
       "        vertical-align: middle;\n",
       "    }\n",
       "\n",
       "    .dataframe tbody tr th {\n",
       "        vertical-align: top;\n",
       "    }\n",
       "\n",
       "    .dataframe thead th {\n",
       "        text-align: right;\n",
       "    }\n",
       "</style>\n",
       "<table border=\"1\" class=\"dataframe\">\n",
       "  <thead>\n",
       "    <tr style=\"text-align: right;\">\n",
       "      <th></th>\n",
       "      <th>homeAway</th>\n",
       "      <th>Ball Possession 1st Half</th>\n",
       "      <th>Corners 1st Half</th>\n",
       "      <th>Fouls Commited 1st Half</th>\n",
       "      <th>Goals 1st Half</th>\n",
       "      <th>Red Cards 1st Half</th>\n",
       "      <th>Shots On 1st Half</th>\n",
       "      <th>Yellow Cards 1st Half</th>\n",
       "      <th>Result</th>\n",
       "      <th>Shots 1st Half</th>\n",
       "    </tr>\n",
       "  </thead>\n",
       "  <tbody>\n",
       "    <tr>\n",
       "      <th>0</th>\n",
       "      <td>1</td>\n",
       "      <td>45.0</td>\n",
       "      <td>1.0</td>\n",
       "      <td>8.0</td>\n",
       "      <td>0.0</td>\n",
       "      <td>0.0</td>\n",
       "      <td>1.0</td>\n",
       "      <td>0.0</td>\n",
       "      <td>L</td>\n",
       "      <td>1.0</td>\n",
       "    </tr>\n",
       "    <tr>\n",
       "      <th>1</th>\n",
       "      <td>2</td>\n",
       "      <td>55.0</td>\n",
       "      <td>2.0</td>\n",
       "      <td>5.0</td>\n",
       "      <td>1.0</td>\n",
       "      <td>0.0</td>\n",
       "      <td>2.0</td>\n",
       "      <td>1.0</td>\n",
       "      <td>W</td>\n",
       "      <td>3.0</td>\n",
       "    </tr>\n",
       "    <tr>\n",
       "      <th>2</th>\n",
       "      <td>1</td>\n",
       "      <td>29.0</td>\n",
       "      <td>3.0</td>\n",
       "      <td>5.0</td>\n",
       "      <td>1.0</td>\n",
       "      <td>0.0</td>\n",
       "      <td>1.0</td>\n",
       "      <td>1.0</td>\n",
       "      <td>D</td>\n",
       "      <td>2.0</td>\n",
       "    </tr>\n",
       "    <tr>\n",
       "      <th>3</th>\n",
       "      <td>2</td>\n",
       "      <td>71.0</td>\n",
       "      <td>1.0</td>\n",
       "      <td>4.0</td>\n",
       "      <td>0.0</td>\n",
       "      <td>0.0</td>\n",
       "      <td>0.0</td>\n",
       "      <td>0.0</td>\n",
       "      <td>D</td>\n",
       "      <td>2.0</td>\n",
       "    </tr>\n",
       "    <tr>\n",
       "      <th>4</th>\n",
       "      <td>1</td>\n",
       "      <td>58.0</td>\n",
       "      <td>6.0</td>\n",
       "      <td>7.0</td>\n",
       "      <td>2.0</td>\n",
       "      <td>0.0</td>\n",
       "      <td>5.0</td>\n",
       "      <td>1.0</td>\n",
       "      <td>W</td>\n",
       "      <td>7.0</td>\n",
       "    </tr>\n",
       "    <tr>\n",
       "      <th>5</th>\n",
       "      <td>2</td>\n",
       "      <td>42.0</td>\n",
       "      <td>1.0</td>\n",
       "      <td>3.0</td>\n",
       "      <td>1.0</td>\n",
       "      <td>0.0</td>\n",
       "      <td>1.0</td>\n",
       "      <td>0.0</td>\n",
       "      <td>L</td>\n",
       "      <td>3.0</td>\n",
       "    </tr>\n",
       "    <tr>\n",
       "      <th>6</th>\n",
       "      <td>1</td>\n",
       "      <td>64.0</td>\n",
       "      <td>7.0</td>\n",
       "      <td>6.0</td>\n",
       "      <td>0.0</td>\n",
       "      <td>0.0</td>\n",
       "      <td>5.0</td>\n",
       "      <td>0.0</td>\n",
       "      <td>W</td>\n",
       "      <td>10.0</td>\n",
       "    </tr>\n",
       "    <tr>\n",
       "      <th>7</th>\n",
       "      <td>2</td>\n",
       "      <td>36.0</td>\n",
       "      <td>0.0</td>\n",
       "      <td>8.0</td>\n",
       "      <td>0.0</td>\n",
       "      <td>0.0</td>\n",
       "      <td>0.0</td>\n",
       "      <td>2.0</td>\n",
       "      <td>L</td>\n",
       "      <td>1.0</td>\n",
       "    </tr>\n",
       "    <tr>\n",
       "      <th>8</th>\n",
       "      <td>1</td>\n",
       "      <td>36.0</td>\n",
       "      <td>2.0</td>\n",
       "      <td>9.0</td>\n",
       "      <td>1.0</td>\n",
       "      <td>0.0</td>\n",
       "      <td>2.0</td>\n",
       "      <td>2.0</td>\n",
       "      <td>W</td>\n",
       "      <td>3.0</td>\n",
       "    </tr>\n",
       "    <tr>\n",
       "      <th>9</th>\n",
       "      <td>2</td>\n",
       "      <td>64.0</td>\n",
       "      <td>4.0</td>\n",
       "      <td>10.0</td>\n",
       "      <td>0.0</td>\n",
       "      <td>0.0</td>\n",
       "      <td>2.0</td>\n",
       "      <td>2.0</td>\n",
       "      <td>L</td>\n",
       "      <td>6.0</td>\n",
       "    </tr>\n",
       "    <tr>\n",
       "      <th>10</th>\n",
       "      <td>1</td>\n",
       "      <td>47.0</td>\n",
       "      <td>3.0</td>\n",
       "      <td>5.0</td>\n",
       "      <td>1.0</td>\n",
       "      <td>0.0</td>\n",
       "      <td>3.0</td>\n",
       "      <td>1.0</td>\n",
       "      <td>W</td>\n",
       "      <td>4.0</td>\n",
       "    </tr>\n",
       "    <tr>\n",
       "      <th>11</th>\n",
       "      <td>2</td>\n",
       "      <td>53.0</td>\n",
       "      <td>0.0</td>\n",
       "      <td>3.0</td>\n",
       "      <td>1.0</td>\n",
       "      <td>0.0</td>\n",
       "      <td>4.0</td>\n",
       "      <td>0.0</td>\n",
       "      <td>L</td>\n",
       "      <td>7.0</td>\n",
       "    </tr>\n",
       "    <tr>\n",
       "      <th>12</th>\n",
       "      <td>1</td>\n",
       "      <td>35.0</td>\n",
       "      <td>2.0</td>\n",
       "      <td>6.0</td>\n",
       "      <td>0.0</td>\n",
       "      <td>0.0</td>\n",
       "      <td>1.0</td>\n",
       "      <td>1.0</td>\n",
       "      <td>L</td>\n",
       "      <td>3.0</td>\n",
       "    </tr>\n",
       "    <tr>\n",
       "      <th>13</th>\n",
       "      <td>2</td>\n",
       "      <td>65.0</td>\n",
       "      <td>13.0</td>\n",
       "      <td>6.0</td>\n",
       "      <td>1.0</td>\n",
       "      <td>0.0</td>\n",
       "      <td>5.0</td>\n",
       "      <td>0.0</td>\n",
       "      <td>W</td>\n",
       "      <td>6.0</td>\n",
       "    </tr>\n",
       "    <tr>\n",
       "      <th>14</th>\n",
       "      <td>1</td>\n",
       "      <td>62.0</td>\n",
       "      <td>0.0</td>\n",
       "      <td>4.0</td>\n",
       "      <td>0.0</td>\n",
       "      <td>0.0</td>\n",
       "      <td>2.0</td>\n",
       "      <td>2.0</td>\n",
       "      <td>L</td>\n",
       "      <td>4.0</td>\n",
       "    </tr>\n",
       "    <tr>\n",
       "      <th>15</th>\n",
       "      <td>2</td>\n",
       "      <td>38.0</td>\n",
       "      <td>1.0</td>\n",
       "      <td>5.0</td>\n",
       "      <td>2.0</td>\n",
       "      <td>0.0</td>\n",
       "      <td>3.0</td>\n",
       "      <td>0.0</td>\n",
       "      <td>W</td>\n",
       "      <td>7.0</td>\n",
       "    </tr>\n",
       "    <tr>\n",
       "      <th>16</th>\n",
       "      <td>1</td>\n",
       "      <td>63.0</td>\n",
       "      <td>4.0</td>\n",
       "      <td>1.0</td>\n",
       "      <td>1.0</td>\n",
       "      <td>0.0</td>\n",
       "      <td>3.0</td>\n",
       "      <td>0.0</td>\n",
       "      <td>D</td>\n",
       "      <td>7.0</td>\n",
       "    </tr>\n",
       "    <tr>\n",
       "      <th>17</th>\n",
       "      <td>2</td>\n",
       "      <td>37.0</td>\n",
       "      <td>2.0</td>\n",
       "      <td>2.0</td>\n",
       "      <td>0.0</td>\n",
       "      <td>0.0</td>\n",
       "      <td>1.0</td>\n",
       "      <td>0.0</td>\n",
       "      <td>D</td>\n",
       "      <td>1.0</td>\n",
       "    </tr>\n",
       "    <tr>\n",
       "      <th>18</th>\n",
       "      <td>1</td>\n",
       "      <td>18.0</td>\n",
       "      <td>1.0</td>\n",
       "      <td>3.0</td>\n",
       "      <td>0.0</td>\n",
       "      <td>0.0</td>\n",
       "      <td>0.0</td>\n",
       "      <td>0.0</td>\n",
       "      <td>L</td>\n",
       "      <td>1.0</td>\n",
       "    </tr>\n",
       "    <tr>\n",
       "      <th>19</th>\n",
       "      <td>2</td>\n",
       "      <td>82.0</td>\n",
       "      <td>1.0</td>\n",
       "      <td>3.0</td>\n",
       "      <td>1.0</td>\n",
       "      <td>0.0</td>\n",
       "      <td>1.0</td>\n",
       "      <td>1.0</td>\n",
       "      <td>W</td>\n",
       "      <td>3.0</td>\n",
       "    </tr>\n",
       "  </tbody>\n",
       "</table>\n",
       "</div>"
      ],
      "text/plain": [
       "    homeAway  Ball Possession 1st Half  Corners 1st Half  \\\n",
       "0          1                      45.0               1.0   \n",
       "1          2                      55.0               2.0   \n",
       "2          1                      29.0               3.0   \n",
       "3          2                      71.0               1.0   \n",
       "4          1                      58.0               6.0   \n",
       "5          2                      42.0               1.0   \n",
       "6          1                      64.0               7.0   \n",
       "7          2                      36.0               0.0   \n",
       "8          1                      36.0               2.0   \n",
       "9          2                      64.0               4.0   \n",
       "10         1                      47.0               3.0   \n",
       "11         2                      53.0               0.0   \n",
       "12         1                      35.0               2.0   \n",
       "13         2                      65.0              13.0   \n",
       "14         1                      62.0               0.0   \n",
       "15         2                      38.0               1.0   \n",
       "16         1                      63.0               4.0   \n",
       "17         2                      37.0               2.0   \n",
       "18         1                      18.0               1.0   \n",
       "19         2                      82.0               1.0   \n",
       "\n",
       "    Fouls Commited 1st Half  Goals 1st Half  Red Cards 1st Half  \\\n",
       "0                       8.0             0.0                 0.0   \n",
       "1                       5.0             1.0                 0.0   \n",
       "2                       5.0             1.0                 0.0   \n",
       "3                       4.0             0.0                 0.0   \n",
       "4                       7.0             2.0                 0.0   \n",
       "5                       3.0             1.0                 0.0   \n",
       "6                       6.0             0.0                 0.0   \n",
       "7                       8.0             0.0                 0.0   \n",
       "8                       9.0             1.0                 0.0   \n",
       "9                      10.0             0.0                 0.0   \n",
       "10                      5.0             1.0                 0.0   \n",
       "11                      3.0             1.0                 0.0   \n",
       "12                      6.0             0.0                 0.0   \n",
       "13                      6.0             1.0                 0.0   \n",
       "14                      4.0             0.0                 0.0   \n",
       "15                      5.0             2.0                 0.0   \n",
       "16                      1.0             1.0                 0.0   \n",
       "17                      2.0             0.0                 0.0   \n",
       "18                      3.0             0.0                 0.0   \n",
       "19                      3.0             1.0                 0.0   \n",
       "\n",
       "    Shots On 1st Half  Yellow Cards 1st Half Result  Shots 1st Half  \n",
       "0                 1.0                    0.0      L             1.0  \n",
       "1                 2.0                    1.0      W             3.0  \n",
       "2                 1.0                    1.0      D             2.0  \n",
       "3                 0.0                    0.0      D             2.0  \n",
       "4                 5.0                    1.0      W             7.0  \n",
       "5                 1.0                    0.0      L             3.0  \n",
       "6                 5.0                    0.0      W            10.0  \n",
       "7                 0.0                    2.0      L             1.0  \n",
       "8                 2.0                    2.0      W             3.0  \n",
       "9                 2.0                    2.0      L             6.0  \n",
       "10                3.0                    1.0      W             4.0  \n",
       "11                4.0                    0.0      L             7.0  \n",
       "12                1.0                    1.0      L             3.0  \n",
       "13                5.0                    0.0      W             6.0  \n",
       "14                2.0                    2.0      L             4.0  \n",
       "15                3.0                    0.0      W             7.0  \n",
       "16                3.0                    0.0      D             7.0  \n",
       "17                1.0                    0.0      D             1.0  \n",
       "18                0.0                    0.0      L             1.0  \n",
       "19                1.0                    1.0      W             3.0  "
      ]
     },
     "execution_count": 117,
     "metadata": {},
     "output_type": "execute_result"
    }
   ],
   "source": [
    "#Shots per 1st Half 변수 만들기\n",
    "# warning발생\n",
    "soccer_half_df3 = soccer_half_df2\n",
    "soccer_half_df3['Shots 1st Half'] = soccer_half_df2['Shots On 1st Half'] + soccer_half_df2['Shots Off 1st Half']\n",
    "soccer_half_df3 = soccer_half_df3.drop(columns=['Shots Off 1st Half'], axis=1)\n",
    "soccer_half_df3.head(20)"
   ]
  },
  {
   "cell_type": "code",
   "execution_count": 118,
   "id": "34698d20",
   "metadata": {},
   "outputs": [],
   "source": [
    "#'Result' value 변경(win은 1, no-win은 0)\n",
    "win = (soccer_half_df3['Result'] == 'W')\n",
    "draw = (soccer_half_df3['Result'] == 'D')\n",
    "lose = (soccer_half_df3['Result'] == 'L')\n",
    "soccer_half_df3.loc[win, 'Result'] = 1\n",
    "soccer_half_df3.loc[draw, 'Result'] = 0\n",
    "soccer_half_df3.loc[lose, 'Result'] = 0\n",
    "# 'homeAway' value 변경(home은 그대로 1, away는 2에서 0으로 value 교체)\n",
    "away = (soccer_half_df3['homeAway'] == 2)\n",
    "soccer_half_df3.loc[away, 'homeAway'] = 0"
   ]
  },
  {
   "cell_type": "code",
   "execution_count": 119,
   "id": "fff6358f",
   "metadata": {
    "scrolled": true
   },
   "outputs": [
    {
     "name": "stdout",
     "output_type": "stream",
     "text": [
      "<class 'pandas.core.frame.DataFrame'>\n",
      "Int64Index: 530 entries, 0 to 171\n",
      "Data columns (total 10 columns):\n",
      " #   Column                    Non-Null Count  Dtype  \n",
      "---  ------                    --------------  -----  \n",
      " 0   homeAway                  530 non-null    int64  \n",
      " 1   Ball_Possession_1st_Half  530 non-null    float64\n",
      " 2   Corners_1st_Half          530 non-null    float64\n",
      " 3   Fouls_Commited_1st_Half   530 non-null    float64\n",
      " 4   Goals_1st_Half            530 non-null    float64\n",
      " 5   Red_Cards_1st_Half        530 non-null    float64\n",
      " 6   Shots_On_1st_Half         530 non-null    float64\n",
      " 7   Yellow_Cards_1st_Half     530 non-null    float64\n",
      " 8   Result                    530 non-null    object \n",
      " 9   Shots_1st_Half            530 non-null    float64\n",
      "dtypes: float64(8), int64(1), object(1)\n",
      "memory usage: 45.5+ KB\n"
     ]
    }
   ],
   "source": [
    "# 변수명 내 공간 제거 (빈공간을 '_'로 치환)\n",
    "soccer_half_df3.columns = soccer_half_df3.columns.str.replace(' ', '_')\n",
    "soccer_half_df3.info()"
   ]
  },
  {
   "cell_type": "code",
   "execution_count": 120,
   "id": "274683e9",
   "metadata": {},
   "outputs": [],
   "source": [
    "#데이터 내보내기\n",
    "soccer_half_df3.to_csv('C:/half-time-analyze/win-nonwin/res/soccer_half.csv', index = False)"
   ]
  },
  {
   "cell_type": "markdown",
   "id": "1c3edfea",
   "metadata": {},
   "source": [
    "### (5) 타겟변수 설정\n",
    "- 'Result'변수를 타겟변수에 저장하고 데이터셋에서 삭제"
   ]
  },
  {
   "cell_type": "code",
   "execution_count": 121,
   "id": "76a6a2ad",
   "metadata": {},
   "outputs": [],
   "source": [
    "#타겟 데이터 따로 저장\n",
    "target = soccer_half_df3['Result']\n",
    "#input 데이터에 종속변수가 들어가 있어서 종속변수를 제거\n",
    "soccer_half_df4 = soccer_half_df3.drop(columns=['Result'], axis=1)"
   ]
  },
  {
   "cell_type": "code",
   "execution_count": 122,
   "id": "a54affb8",
   "metadata": {},
   "outputs": [
    {
     "data": {
      "text/html": [
       "<div>\n",
       "<style scoped>\n",
       "    .dataframe tbody tr th:only-of-type {\n",
       "        vertical-align: middle;\n",
       "    }\n",
       "\n",
       "    .dataframe tbody tr th {\n",
       "        vertical-align: top;\n",
       "    }\n",
       "\n",
       "    .dataframe thead th {\n",
       "        text-align: right;\n",
       "    }\n",
       "</style>\n",
       "<table border=\"1\" class=\"dataframe\">\n",
       "  <thead>\n",
       "    <tr style=\"text-align: right;\">\n",
       "      <th></th>\n",
       "      <th>homeAway</th>\n",
       "      <th>Ball_Possession_1st_Half</th>\n",
       "      <th>Corners_1st_Half</th>\n",
       "      <th>Fouls_Commited_1st_Half</th>\n",
       "      <th>Goals_1st_Half</th>\n",
       "      <th>Red_Cards_1st_Half</th>\n",
       "      <th>Shots_On_1st_Half</th>\n",
       "      <th>Yellow_Cards_1st_Half</th>\n",
       "      <th>Shots_1st_Half</th>\n",
       "    </tr>\n",
       "  </thead>\n",
       "  <tbody>\n",
       "    <tr>\n",
       "      <th>0</th>\n",
       "      <td>1</td>\n",
       "      <td>45.0</td>\n",
       "      <td>1.0</td>\n",
       "      <td>8.0</td>\n",
       "      <td>0.0</td>\n",
       "      <td>0.0</td>\n",
       "      <td>1.0</td>\n",
       "      <td>0.0</td>\n",
       "      <td>1.0</td>\n",
       "    </tr>\n",
       "    <tr>\n",
       "      <th>1</th>\n",
       "      <td>0</td>\n",
       "      <td>55.0</td>\n",
       "      <td>2.0</td>\n",
       "      <td>5.0</td>\n",
       "      <td>1.0</td>\n",
       "      <td>0.0</td>\n",
       "      <td>2.0</td>\n",
       "      <td>1.0</td>\n",
       "      <td>3.0</td>\n",
       "    </tr>\n",
       "    <tr>\n",
       "      <th>2</th>\n",
       "      <td>1</td>\n",
       "      <td>29.0</td>\n",
       "      <td>3.0</td>\n",
       "      <td>5.0</td>\n",
       "      <td>1.0</td>\n",
       "      <td>0.0</td>\n",
       "      <td>1.0</td>\n",
       "      <td>1.0</td>\n",
       "      <td>2.0</td>\n",
       "    </tr>\n",
       "    <tr>\n",
       "      <th>3</th>\n",
       "      <td>0</td>\n",
       "      <td>71.0</td>\n",
       "      <td>1.0</td>\n",
       "      <td>4.0</td>\n",
       "      <td>0.0</td>\n",
       "      <td>0.0</td>\n",
       "      <td>0.0</td>\n",
       "      <td>0.0</td>\n",
       "      <td>2.0</td>\n",
       "    </tr>\n",
       "    <tr>\n",
       "      <th>4</th>\n",
       "      <td>1</td>\n",
       "      <td>58.0</td>\n",
       "      <td>6.0</td>\n",
       "      <td>7.0</td>\n",
       "      <td>2.0</td>\n",
       "      <td>0.0</td>\n",
       "      <td>5.0</td>\n",
       "      <td>1.0</td>\n",
       "      <td>7.0</td>\n",
       "    </tr>\n",
       "    <tr>\n",
       "      <th>5</th>\n",
       "      <td>0</td>\n",
       "      <td>42.0</td>\n",
       "      <td>1.0</td>\n",
       "      <td>3.0</td>\n",
       "      <td>1.0</td>\n",
       "      <td>0.0</td>\n",
       "      <td>1.0</td>\n",
       "      <td>0.0</td>\n",
       "      <td>3.0</td>\n",
       "    </tr>\n",
       "    <tr>\n",
       "      <th>6</th>\n",
       "      <td>1</td>\n",
       "      <td>64.0</td>\n",
       "      <td>7.0</td>\n",
       "      <td>6.0</td>\n",
       "      <td>0.0</td>\n",
       "      <td>0.0</td>\n",
       "      <td>5.0</td>\n",
       "      <td>0.0</td>\n",
       "      <td>10.0</td>\n",
       "    </tr>\n",
       "    <tr>\n",
       "      <th>7</th>\n",
       "      <td>0</td>\n",
       "      <td>36.0</td>\n",
       "      <td>0.0</td>\n",
       "      <td>8.0</td>\n",
       "      <td>0.0</td>\n",
       "      <td>0.0</td>\n",
       "      <td>0.0</td>\n",
       "      <td>2.0</td>\n",
       "      <td>1.0</td>\n",
       "    </tr>\n",
       "    <tr>\n",
       "      <th>8</th>\n",
       "      <td>1</td>\n",
       "      <td>36.0</td>\n",
       "      <td>2.0</td>\n",
       "      <td>9.0</td>\n",
       "      <td>1.0</td>\n",
       "      <td>0.0</td>\n",
       "      <td>2.0</td>\n",
       "      <td>2.0</td>\n",
       "      <td>3.0</td>\n",
       "    </tr>\n",
       "    <tr>\n",
       "      <th>9</th>\n",
       "      <td>0</td>\n",
       "      <td>64.0</td>\n",
       "      <td>4.0</td>\n",
       "      <td>10.0</td>\n",
       "      <td>0.0</td>\n",
       "      <td>0.0</td>\n",
       "      <td>2.0</td>\n",
       "      <td>2.0</td>\n",
       "      <td>6.0</td>\n",
       "    </tr>\n",
       "    <tr>\n",
       "      <th>10</th>\n",
       "      <td>1</td>\n",
       "      <td>47.0</td>\n",
       "      <td>3.0</td>\n",
       "      <td>5.0</td>\n",
       "      <td>1.0</td>\n",
       "      <td>0.0</td>\n",
       "      <td>3.0</td>\n",
       "      <td>1.0</td>\n",
       "      <td>4.0</td>\n",
       "    </tr>\n",
       "    <tr>\n",
       "      <th>11</th>\n",
       "      <td>0</td>\n",
       "      <td>53.0</td>\n",
       "      <td>0.0</td>\n",
       "      <td>3.0</td>\n",
       "      <td>1.0</td>\n",
       "      <td>0.0</td>\n",
       "      <td>4.0</td>\n",
       "      <td>0.0</td>\n",
       "      <td>7.0</td>\n",
       "    </tr>\n",
       "    <tr>\n",
       "      <th>12</th>\n",
       "      <td>1</td>\n",
       "      <td>35.0</td>\n",
       "      <td>2.0</td>\n",
       "      <td>6.0</td>\n",
       "      <td>0.0</td>\n",
       "      <td>0.0</td>\n",
       "      <td>1.0</td>\n",
       "      <td>1.0</td>\n",
       "      <td>3.0</td>\n",
       "    </tr>\n",
       "    <tr>\n",
       "      <th>13</th>\n",
       "      <td>0</td>\n",
       "      <td>65.0</td>\n",
       "      <td>13.0</td>\n",
       "      <td>6.0</td>\n",
       "      <td>1.0</td>\n",
       "      <td>0.0</td>\n",
       "      <td>5.0</td>\n",
       "      <td>0.0</td>\n",
       "      <td>6.0</td>\n",
       "    </tr>\n",
       "    <tr>\n",
       "      <th>14</th>\n",
       "      <td>1</td>\n",
       "      <td>62.0</td>\n",
       "      <td>0.0</td>\n",
       "      <td>4.0</td>\n",
       "      <td>0.0</td>\n",
       "      <td>0.0</td>\n",
       "      <td>2.0</td>\n",
       "      <td>2.0</td>\n",
       "      <td>4.0</td>\n",
       "    </tr>\n",
       "    <tr>\n",
       "      <th>15</th>\n",
       "      <td>0</td>\n",
       "      <td>38.0</td>\n",
       "      <td>1.0</td>\n",
       "      <td>5.0</td>\n",
       "      <td>2.0</td>\n",
       "      <td>0.0</td>\n",
       "      <td>3.0</td>\n",
       "      <td>0.0</td>\n",
       "      <td>7.0</td>\n",
       "    </tr>\n",
       "    <tr>\n",
       "      <th>16</th>\n",
       "      <td>1</td>\n",
       "      <td>63.0</td>\n",
       "      <td>4.0</td>\n",
       "      <td>1.0</td>\n",
       "      <td>1.0</td>\n",
       "      <td>0.0</td>\n",
       "      <td>3.0</td>\n",
       "      <td>0.0</td>\n",
       "      <td>7.0</td>\n",
       "    </tr>\n",
       "    <tr>\n",
       "      <th>17</th>\n",
       "      <td>0</td>\n",
       "      <td>37.0</td>\n",
       "      <td>2.0</td>\n",
       "      <td>2.0</td>\n",
       "      <td>0.0</td>\n",
       "      <td>0.0</td>\n",
       "      <td>1.0</td>\n",
       "      <td>0.0</td>\n",
       "      <td>1.0</td>\n",
       "    </tr>\n",
       "    <tr>\n",
       "      <th>18</th>\n",
       "      <td>1</td>\n",
       "      <td>18.0</td>\n",
       "      <td>1.0</td>\n",
       "      <td>3.0</td>\n",
       "      <td>0.0</td>\n",
       "      <td>0.0</td>\n",
       "      <td>0.0</td>\n",
       "      <td>0.0</td>\n",
       "      <td>1.0</td>\n",
       "    </tr>\n",
       "    <tr>\n",
       "      <th>19</th>\n",
       "      <td>0</td>\n",
       "      <td>82.0</td>\n",
       "      <td>1.0</td>\n",
       "      <td>3.0</td>\n",
       "      <td>1.0</td>\n",
       "      <td>0.0</td>\n",
       "      <td>1.0</td>\n",
       "      <td>1.0</td>\n",
       "      <td>3.0</td>\n",
       "    </tr>\n",
       "  </tbody>\n",
       "</table>\n",
       "</div>"
      ],
      "text/plain": [
       "    homeAway  Ball_Possession_1st_Half  Corners_1st_Half  \\\n",
       "0          1                      45.0               1.0   \n",
       "1          0                      55.0               2.0   \n",
       "2          1                      29.0               3.0   \n",
       "3          0                      71.0               1.0   \n",
       "4          1                      58.0               6.0   \n",
       "5          0                      42.0               1.0   \n",
       "6          1                      64.0               7.0   \n",
       "7          0                      36.0               0.0   \n",
       "8          1                      36.0               2.0   \n",
       "9          0                      64.0               4.0   \n",
       "10         1                      47.0               3.0   \n",
       "11         0                      53.0               0.0   \n",
       "12         1                      35.0               2.0   \n",
       "13         0                      65.0              13.0   \n",
       "14         1                      62.0               0.0   \n",
       "15         0                      38.0               1.0   \n",
       "16         1                      63.0               4.0   \n",
       "17         0                      37.0               2.0   \n",
       "18         1                      18.0               1.0   \n",
       "19         0                      82.0               1.0   \n",
       "\n",
       "    Fouls_Commited_1st_Half  Goals_1st_Half  Red_Cards_1st_Half  \\\n",
       "0                       8.0             0.0                 0.0   \n",
       "1                       5.0             1.0                 0.0   \n",
       "2                       5.0             1.0                 0.0   \n",
       "3                       4.0             0.0                 0.0   \n",
       "4                       7.0             2.0                 0.0   \n",
       "5                       3.0             1.0                 0.0   \n",
       "6                       6.0             0.0                 0.0   \n",
       "7                       8.0             0.0                 0.0   \n",
       "8                       9.0             1.0                 0.0   \n",
       "9                      10.0             0.0                 0.0   \n",
       "10                      5.0             1.0                 0.0   \n",
       "11                      3.0             1.0                 0.0   \n",
       "12                      6.0             0.0                 0.0   \n",
       "13                      6.0             1.0                 0.0   \n",
       "14                      4.0             0.0                 0.0   \n",
       "15                      5.0             2.0                 0.0   \n",
       "16                      1.0             1.0                 0.0   \n",
       "17                      2.0             0.0                 0.0   \n",
       "18                      3.0             0.0                 0.0   \n",
       "19                      3.0             1.0                 0.0   \n",
       "\n",
       "    Shots_On_1st_Half  Yellow_Cards_1st_Half  Shots_1st_Half  \n",
       "0                 1.0                    0.0             1.0  \n",
       "1                 2.0                    1.0             3.0  \n",
       "2                 1.0                    1.0             2.0  \n",
       "3                 0.0                    0.0             2.0  \n",
       "4                 5.0                    1.0             7.0  \n",
       "5                 1.0                    0.0             3.0  \n",
       "6                 5.0                    0.0            10.0  \n",
       "7                 0.0                    2.0             1.0  \n",
       "8                 2.0                    2.0             3.0  \n",
       "9                 2.0                    2.0             6.0  \n",
       "10                3.0                    1.0             4.0  \n",
       "11                4.0                    0.0             7.0  \n",
       "12                1.0                    1.0             3.0  \n",
       "13                5.0                    0.0             6.0  \n",
       "14                2.0                    2.0             4.0  \n",
       "15                3.0                    0.0             7.0  \n",
       "16                3.0                    0.0             7.0  \n",
       "17                1.0                    0.0             1.0  \n",
       "18                0.0                    0.0             1.0  \n",
       "19                1.0                    1.0             3.0  "
      ]
     },
     "execution_count": 122,
     "metadata": {},
     "output_type": "execute_result"
    }
   ],
   "source": [
    "soccer_half_df4.head(20)"
   ]
  },
  {
   "cell_type": "code",
   "execution_count": 123,
   "id": "c453af6d",
   "metadata": {},
   "outputs": [
    {
     "data": {
      "text/plain": [
       "Index(['homeAway', 'Ball_Possession_1st_Half', 'Corners_1st_Half',\n",
       "       'Fouls_Commited_1st_Half', 'Goals_1st_Half', 'Red_Cards_1st_Half',\n",
       "       'Shots_On_1st_Half', 'Yellow_Cards_1st_Half', 'Shots_1st_Half'],\n",
       "      dtype='object')"
      ]
     },
     "execution_count": 123,
     "metadata": {},
     "output_type": "execute_result"
    }
   ],
   "source": [
    "#독립변수 확인\n",
    "soccer_half_df4.columns"
   ]
  },
  {
   "cell_type": "markdown",
   "id": "e0b654b3",
   "metadata": {},
   "source": [
    "## 2. 표준화 작업\n",
    "- 표준화작업\n",
    "- 표준화 작업 결과 확인"
   ]
  },
  {
   "cell_type": "code",
   "execution_count": 124,
   "id": "42d5d2cd",
   "metadata": {},
   "outputs": [],
   "source": [
    "#독립변수로 사용할 데이터를 평균이 0, 분산이 1이되는 정규분포 형태로 수정\n",
    "from sklearn.preprocessing import StandardScaler\n",
    "scaler = StandardScaler()\n",
    "soccer_half_scaled = scaler.fit_transform(soccer_half_df4)"
   ]
  },
  {
   "cell_type": "code",
   "execution_count": 125,
   "id": "6e91c848",
   "metadata": {},
   "outputs": [
    {
     "name": "stdout",
     "output_type": "stream",
     "text": [
      "[ 1.         -0.36758482 -0.71951478  1.36114437 -0.80081123 -0.10700646\n",
      " -0.68854816 -0.82078935 -1.27994024]\n"
     ]
    }
   ],
   "source": [
    "print(soccer_half_scaled[0])"
   ]
  },
  {
   "cell_type": "code",
   "execution_count": 126,
   "id": "e89f827d",
   "metadata": {},
   "outputs": [
    {
     "name": "stdout",
     "output_type": "stream",
     "text": [
      "[-1.         -1.02923749 -1.22661961  1.36114437 -0.80081123 -0.10700646\n",
      " -1.29575369  1.88960538 -1.27994024]\n"
     ]
    }
   ],
   "source": [
    "print(soccer_half_scaled[7])"
   ]
  },
  {
   "cell_type": "markdown",
   "id": "32bbe4a0",
   "metadata": {},
   "source": [
    "## 3. 로지스틱 회귀모형 구축\n",
    "- X, Y 설정\n",
    "- 훈련용, 테스트용 데이터셋 분리\n",
    "- 타겟변수 자료형 확인하고 int로 변경(object시 에러 발생)\n",
    "- Y_predict, coef, intercept 확인"
   ]
  },
  {
   "cell_type": "code",
   "execution_count": 127,
   "id": "c4671adb",
   "metadata": {},
   "outputs": [],
   "source": [
    "from sklearn.linear_model import LogisticRegression\n",
    "from sklearn.model_selection import train_test_split"
   ]
  },
  {
   "cell_type": "code",
   "execution_count": 128,
   "id": "4e74c956",
   "metadata": {},
   "outputs": [],
   "source": [
    "# X, Y 설정\n",
    "Y = target\n",
    "X = soccer_half_df4"
   ]
  },
  {
   "cell_type": "code",
   "execution_count": 129,
   "id": "5bf46dd3",
   "metadata": {},
   "outputs": [],
   "source": [
    "#훈련 데이터와 테스트 데이터 분리\n",
    "X_train, X_test, Y_train, Y_test = train_test_split(X, Y, test_size = 0.4, random_state = 0, stratify=Y)"
   ]
  },
  {
   "cell_type": "code",
   "execution_count": 130,
   "id": "4eda20f1",
   "metadata": {},
   "outputs": [
    {
     "name": "stdout",
     "output_type": "stream",
     "text": [
      "(318, 9) (212, 9) (318,) (212,)\n"
     ]
    }
   ],
   "source": [
    "print(X_train.shape, X_test.shape, Y_train.shape, Y_test.shape)"
   ]
  },
  {
   "cell_type": "code",
   "execution_count": 131,
   "id": "b106242b",
   "metadata": {},
   "outputs": [
    {
     "name": "stdout",
     "output_type": "stream",
     "text": [
      "<class 'pandas.core.series.Series'>\n",
      "Int64Index: 318 entries, 32 to 194\n",
      "Series name: Result\n",
      "Non-Null Count  Dtype \n",
      "--------------  ----- \n",
      "318 non-null    object\n",
      "dtypes: object(1)\n",
      "memory usage: 5.0+ KB\n"
     ]
    }
   ],
   "source": [
    "#target 자료형 확인1\n",
    "Y_train.info()"
   ]
  },
  {
   "cell_type": "code",
   "execution_count": 132,
   "id": "617491ce",
   "metadata": {},
   "outputs": [
    {
     "name": "stdout",
     "output_type": "stream",
     "text": [
      "<class 'pandas.core.series.Series'>\n",
      "Int64Index: 212 entries, 87 to 243\n",
      "Series name: Result\n",
      "Non-Null Count  Dtype \n",
      "--------------  ----- \n",
      "212 non-null    object\n",
      "dtypes: object(1)\n",
      "memory usage: 3.3+ KB\n"
     ]
    }
   ],
   "source": [
    "#target 자료형 확인2\n",
    "Y_test.info()"
   ]
  },
  {
   "cell_type": "code",
   "execution_count": 133,
   "id": "af40d0f6",
   "metadata": {},
   "outputs": [],
   "source": [
    "#target 자료형 변경\n",
    "Y_train = Y_train.astype(int)\n",
    "Y_test = Y_test.astype(int)"
   ]
  },
  {
   "cell_type": "code",
   "execution_count": 134,
   "id": "9da75819",
   "metadata": {},
   "outputs": [
    {
     "name": "stdout",
     "output_type": "stream",
     "text": [
      "38.99 %\n"
     ]
    }
   ],
   "source": [
    "#Y_train과 Y_test의 진단결과의 비율이 거의 일치한지 확인(전체에서 1의 비율)\n",
    "print(round(sum(Y_train)/len(Y_train)*100, 2), '%')"
   ]
  },
  {
   "cell_type": "code",
   "execution_count": 135,
   "id": "cbb7ac18",
   "metadata": {},
   "outputs": [
    {
     "name": "stdout",
     "output_type": "stream",
     "text": [
      "39.15 %\n"
     ]
    }
   ],
   "source": [
    "#Y_train과 Y_test의 진단결과의 비율이 거의 일치한지 확인(전체에서 1의 비율)\n",
    "print(round(sum(Y_test)/len(Y_test)*100, 2), '%')"
   ]
  },
  {
   "cell_type": "code",
   "execution_count": 136,
   "id": "b90b44ff",
   "metadata": {},
   "outputs": [
    {
     "data": {
      "text/plain": [
       "LogisticRegression(max_iter=10000)"
      ]
     },
     "execution_count": 136,
     "metadata": {},
     "output_type": "execute_result"
    }
   ],
   "source": [
    "# 로지스틱 회귀 모형 생성\n",
    "lr_soccer_half = LogisticRegression(max_iter=10000) #max-iter 확인\n",
    "# 로지스틱 회귀 모형 훈련\n",
    "lr_soccer_half.fit(X_train, Y_train)"
   ]
  },
  {
   "cell_type": "code",
   "execution_count": 137,
   "id": "d7b88ff3",
   "metadata": {},
   "outputs": [],
   "source": [
    "Y_predict = lr_soccer_half.predict(X_test)"
   ]
  },
  {
   "cell_type": "code",
   "execution_count": 138,
   "id": "28231969",
   "metadata": {},
   "outputs": [
    {
     "data": {
      "text/plain": [
       "array([[ 0.59739292,  0.05270154,  0.07130715,  0.08321702,  1.18538183,\n",
       "        -0.61890708, -0.00417456, -0.6138123 ,  0.06152651]])"
      ]
     },
     "execution_count": 138,
     "metadata": {},
     "output_type": "execute_result"
    }
   ],
   "source": [
    "#계수(베타값) 추출\n",
    "lr_soccer_half.coef_"
   ]
  },
  {
   "cell_type": "code",
   "execution_count": 139,
   "id": "bfad7e23",
   "metadata": {},
   "outputs": [
    {
     "data": {
      "text/plain": [
       "array([-4.78020086])"
      ]
     },
     "execution_count": 139,
     "metadata": {},
     "output_type": "execute_result"
    }
   ],
   "source": [
    "#상수 따로 추출 -> error\n",
    "lr_soccer_half.intercept_"
   ]
  },
  {
   "cell_type": "markdown",
   "id": "bccc17c7",
   "metadata": {},
   "source": [
    "## 4. 로지스틱 회귀모형 평가\n",
    "- 오차행렬\n",
    "- 정확도, 정밀도, 재현율, F1\n",
    "- 데이터 넣고 모형 돌리기\n",
    "- X_test를 돌려서 Y_predict, Y_test(실제값)과 Y_predict를 비교"
   ]
  },
  {
   "cell_type": "code",
   "execution_count": 140,
   "id": "c3cae367",
   "metadata": {},
   "outputs": [],
   "source": [
    "from sklearn.metrics import confusion_matrix, accuracy_score, precision_score, recall_score, f1_score"
   ]
  },
  {
   "cell_type": "code",
   "execution_count": 141,
   "id": "321e023d",
   "metadata": {},
   "outputs": [
    {
     "data": {
      "text/plain": [
       "array([[108,  21],\n",
       "       [ 33,  50]], dtype=int64)"
      ]
     },
     "execution_count": 141,
     "metadata": {},
     "output_type": "execute_result"
    }
   ],
   "source": [
    "# 오차행렬 확인(예측치와 실제값 비교)\n",
    "confusion_matrix(Y_test, Y_predict)"
   ]
  },
  {
   "cell_type": "code",
   "execution_count": 142,
   "id": "33cccfde",
   "metadata": {},
   "outputs": [],
   "source": [
    "accuracy = accuracy_score(Y_test, Y_predict)\n",
    "precision = precision_score(Y_test, Y_predict)\n",
    "recall = recall_score(Y_test, Y_predict)\n",
    "f1 = f1_score(Y_test, Y_predict)"
   ]
  },
  {
   "cell_type": "code",
   "execution_count": 143,
   "id": "cfbaa3e8",
   "metadata": {},
   "outputs": [
    {
     "name": "stdout",
     "output_type": "stream",
     "text": [
      "정확도: 0.745, 정밀도: 0.704, 재현율: 0.602, F1: 0.649\n"
     ]
    }
   ],
   "source": [
    "print('정확도: {0:.3f}, 정밀도: {1:.3f}, 재현율: {2:.3f}, F1: {3:.3f}'.format(accuracy, precision, recall, f1))"
   ]
  },
  {
   "cell_type": "code",
   "execution_count": 144,
   "id": "7c51f70b",
   "metadata": {},
   "outputs": [],
   "source": [
    "import statsmodels.api as sm"
   ]
  },
  {
   "cell_type": "code",
   "execution_count": 145,
   "id": "4df99955",
   "metadata": {},
   "outputs": [
    {
     "name": "stdout",
     "output_type": "stream",
     "text": [
      "Optimization terminated successfully.\n",
      "         Current function value: 0.560680\n",
      "         Iterations: 9\n",
      "         Function evaluations: 926\n"
     ]
    }
   ],
   "source": [
    "logit_m = sm.Logit(Y_train, X_train)\n",
    "logit_m_train = logit_m.fit(method='powell')"
   ]
  },
  {
   "cell_type": "code",
   "execution_count": 146,
   "id": "98e358fa",
   "metadata": {},
   "outputs": [
    {
     "data": {
      "text/html": [
       "<table class=\"simpletable\">\n",
       "<caption>Logit Regression Results</caption>\n",
       "<tr>\n",
       "  <th>Dep. Variable:</th>        <td>Result</td>      <th>  No. Observations:  </th>  <td>   318</td>  \n",
       "</tr>\n",
       "<tr>\n",
       "  <th>Model:</th>                 <td>Logit</td>      <th>  Df Residuals:      </th>  <td>   309</td>  \n",
       "</tr>\n",
       "<tr>\n",
       "  <th>Method:</th>                 <td>MLE</td>       <th>  Df Model:          </th>  <td>     8</td>  \n",
       "</tr>\n",
       "<tr>\n",
       "  <th>Date:</th>            <td>Tue, 23 May 2023</td> <th>  Pseudo R-squ.:     </th>  <td>0.1616</td>  \n",
       "</tr>\n",
       "<tr>\n",
       "  <th>Time:</th>                <td>19:58:40</td>     <th>  Log-Likelihood:    </th> <td> -178.30</td> \n",
       "</tr>\n",
       "<tr>\n",
       "  <th>converged:</th>             <td>True</td>       <th>  LL-Null:           </th> <td> -212.65</td> \n",
       "</tr>\n",
       "<tr>\n",
       "  <th>Covariance Type:</th>     <td>nonrobust</td>    <th>  LLR p-value:       </th> <td>8.859e-12</td>\n",
       "</tr>\n",
       "</table>\n",
       "<table class=\"simpletable\">\n",
       "<tr>\n",
       "              <td></td>                <th>coef</th>     <th>std err</th>      <th>z</th>      <th>P>|z|</th>  <th>[0.025</th>    <th>0.975]</th>  \n",
       "</tr>\n",
       "<tr>\n",
       "  <th>homeAway</th>                 <td>    0.2036</td> <td>    0.260</td> <td>    0.784</td> <td> 0.433</td> <td>   -0.306</td> <td>    0.713</td>\n",
       "</tr>\n",
       "<tr>\n",
       "  <th>Ball_Possession_1st_Half</th> <td>   -0.0069</td> <td>    0.008</td> <td>   -0.884</td> <td> 0.377</td> <td>   -0.022</td> <td>    0.008</td>\n",
       "</tr>\n",
       "<tr>\n",
       "  <th>Corners_1st_Half</th>         <td>    0.0918</td> <td>    0.074</td> <td>    1.234</td> <td> 0.217</td> <td>   -0.054</td> <td>    0.238</td>\n",
       "</tr>\n",
       "<tr>\n",
       "  <th>Fouls_Commited_1st_Half</th>  <td>   -0.1417</td> <td>    0.055</td> <td>   -2.554</td> <td> 0.011</td> <td>   -0.250</td> <td>   -0.033</td>\n",
       "</tr>\n",
       "<tr>\n",
       "  <th>Goals_1st_Half</th>           <td>    1.0891</td> <td>    0.209</td> <td>    5.203</td> <td> 0.000</td> <td>    0.679</td> <td>    1.499</td>\n",
       "</tr>\n",
       "<tr>\n",
       "  <th>Red_Cards_1st_Half</th>       <td>   -1.3485</td> <td>    1.186</td> <td>   -1.137</td> <td> 0.256</td> <td>   -3.674</td> <td>    0.977</td>\n",
       "</tr>\n",
       "<tr>\n",
       "  <th>Shots_On_1st_Half</th>        <td>   -0.0942</td> <td>    0.127</td> <td>   -0.743</td> <td> 0.457</td> <td>   -0.343</td> <td>    0.154</td>\n",
       "</tr>\n",
       "<tr>\n",
       "  <th>Yellow_Cards_1st_Half</th>    <td>   -0.6178</td> <td>    0.200</td> <td>   -3.093</td> <td> 0.002</td> <td>   -1.009</td> <td>   -0.226</td>\n",
       "</tr>\n",
       "<tr>\n",
       "  <th>Shots_1st_Half</th>           <td>    0.0621</td> <td>    0.082</td> <td>    0.754</td> <td> 0.451</td> <td>   -0.099</td> <td>    0.223</td>\n",
       "</tr>\n",
       "</table>"
      ],
      "text/plain": [
       "<class 'statsmodels.iolib.summary.Summary'>\n",
       "\"\"\"\n",
       "                           Logit Regression Results                           \n",
       "==============================================================================\n",
       "Dep. Variable:                 Result   No. Observations:                  318\n",
       "Model:                          Logit   Df Residuals:                      309\n",
       "Method:                           MLE   Df Model:                            8\n",
       "Date:                Tue, 23 May 2023   Pseudo R-squ.:                  0.1616\n",
       "Time:                        19:58:40   Log-Likelihood:                -178.30\n",
       "converged:                       True   LL-Null:                       -212.65\n",
       "Covariance Type:            nonrobust   LLR p-value:                 8.859e-12\n",
       "============================================================================================\n",
       "                               coef    std err          z      P>|z|      [0.025      0.975]\n",
       "--------------------------------------------------------------------------------------------\n",
       "homeAway                     0.2036      0.260      0.784      0.433      -0.306       0.713\n",
       "Ball_Possession_1st_Half    -0.0069      0.008     -0.884      0.377      -0.022       0.008\n",
       "Corners_1st_Half             0.0918      0.074      1.234      0.217      -0.054       0.238\n",
       "Fouls_Commited_1st_Half     -0.1417      0.055     -2.554      0.011      -0.250      -0.033\n",
       "Goals_1st_Half               1.0891      0.209      5.203      0.000       0.679       1.499\n",
       "Red_Cards_1st_Half          -1.3485      1.186     -1.137      0.256      -3.674       0.977\n",
       "Shots_On_1st_Half           -0.0942      0.127     -0.743      0.457      -0.343       0.154\n",
       "Yellow_Cards_1st_Half       -0.6178      0.200     -3.093      0.002      -1.009      -0.226\n",
       "Shots_1st_Half               0.0621      0.082      0.754      0.451      -0.099       0.223\n",
       "============================================================================================\n",
       "\"\"\""
      ]
     },
     "execution_count": 146,
     "metadata": {},
     "output_type": "execute_result"
    }
   ],
   "source": [
    "logit_m_train.summary()"
   ]
  },
  {
   "cell_type": "code",
   "execution_count": 147,
   "id": "3cbd9a08",
   "metadata": {},
   "outputs": [
    {
     "data": {
      "text/plain": [
       "homeAway                    1.225836\n",
       "Ball_Possession_1st_Half    0.993090\n",
       "Corners_1st_Half            1.096142\n",
       "Fouls_Commited_1st_Half     0.867887\n",
       "Goals_1st_Half              2.971671\n",
       "Red_Cards_1st_Half          0.259624\n",
       "Shots_On_1st_Half           0.910131\n",
       "Yellow_Cards_1st_Half       0.539125\n",
       "Shots_1st_Half              1.064045\n",
       "dtype: float64"
      ]
     },
     "execution_count": 147,
     "metadata": {},
     "output_type": "execute_result"
    }
   ],
   "source": [
    "np.exp(logit_m_train.params)"
   ]
  },
  {
   "cell_type": "code",
   "execution_count": 148,
   "id": "7dac79bf",
   "metadata": {},
   "outputs": [],
   "source": [
    "import pandas as pd\n",
    "import seaborn as sns\n",
    "import matplotlib.pyplot as plt"
   ]
  },
  {
   "cell_type": "code",
   "execution_count": 149,
   "id": "92b616e2",
   "metadata": {},
   "outputs": [
    {
     "name": "stdout",
     "output_type": "stream",
     "text": [
      "<class 'pandas.core.frame.DataFrame'>\n",
      "RangeIndex: 530 entries, 0 to 529\n",
      "Data columns (total 10 columns):\n",
      " #   Column                    Non-Null Count  Dtype  \n",
      "---  ------                    --------------  -----  \n",
      " 0   homeAway                  530 non-null    int64  \n",
      " 1   Ball_Possession_1st_Half  530 non-null    float64\n",
      " 2   Corners_1st_Half          530 non-null    float64\n",
      " 3   Fouls_Commited_1st_Half   530 non-null    float64\n",
      " 4   Goals_1st_Half            530 non-null    float64\n",
      " 5   Red_Cards_1st_Half        530 non-null    float64\n",
      " 6   Shots_On_1st_Half         530 non-null    float64\n",
      " 7   Yellow_Cards_1st_Half     530 non-null    float64\n",
      " 8   Result                    530 non-null    int64  \n",
      " 9   Shots_1st_Half            530 non-null    float64\n",
      "dtypes: float64(8), int64(2)\n",
      "memory usage: 41.5 KB\n"
     ]
    }
   ],
   "source": [
    "data = pd.read_csv('C:/half-time-analyze/win-nonwin/res/soccer_half.csv', header = 0, engine = 'python')\n",
    "data.info()"
   ]
  },
  {
   "cell_type": "code",
   "execution_count": null,
   "id": "ad3e6104",
   "metadata": {},
   "outputs": [],
   "source": [
    "#전반전 경기 내용\n",
    "input_data = data\n",
    "input_data2 = data.drop(columns=['Result'], axis=1)\n",
    "#경기 결과를 수치로 나타낸 것(0: L, 1 : W, 2 : D)\n",
    "target_data = data['Result']\n",
    "features_names = ['homeAway', 'Ball_Possession_1st_Half','Corners_1st_Half','Fouls_Commited_1st_Half','Goals_1st_Half','Red_Cards_1st_Half','Shots_On_1st_Half','Yellow_Cards_1st_Half','Result','Shots_1st_Half']\n",
    "half_df = pd.DataFrame(input_data, columns=features_names)\n",
    "\n",
    "#데이터 개괄적 특징 파악\n",
    "sns.pairplot(half_df, hue='Result', vars=features_names)\n",
    "plt.show()"
   ]
  }
 ],
 "metadata": {
  "kernelspec": {
   "display_name": "Python 3 (ipykernel)",
   "language": "python",
   "name": "python3"
  },
  "language_info": {
   "codemirror_mode": {
    "name": "ipython",
    "version": 3
   },
   "file_extension": ".py",
   "mimetype": "text/x-python",
   "name": "python",
   "nbconvert_exporter": "python",
   "pygments_lexer": "ipython3",
   "version": "3.9.13"
  }
 },
 "nbformat": 4,
 "nbformat_minor": 5
}
