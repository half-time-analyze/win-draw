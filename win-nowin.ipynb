{
 "cells": [
  {
   "cell_type": "markdown",
   "id": "4738199c",
   "metadata": {},
   "source": [
    "# 2023-1 데이터사이언스 4조 Half-Time-Analyze - win/nowin\n",
    "- 축구 경기의 전반전 내용을 기반으로 경기 결과 예측 모형 - win/nowin\n",
    "\n",
    "- 미리 엑셀 함수를 이용하여 win/draw/lose 결과를 골을 비교하여 변수로 만들어 놓음. \n",
    "- 미리 엑셀에서 soccer3.csv에만 추가되어있던 열들을 삭제 처리\n"
   ]
  },
  {
   "cell_type": "markdown",
   "id": "d231d80a",
   "metadata": {},
   "source": [
    "- 데이터 불러오기: ~ 데이터셋을 사용"
   ]
  },
  {
   "cell_type": "markdown",
   "id": "d5735c82",
   "metadata": {},
   "source": [
    "#### [데이터 설명]\n",
    "- 데이터: \n",
    "- 관측치 개수: 530개\n",
    "- 변수 개수: 독립변수 개 / 종속변수 1개\n",
    "\n",
    "\n",
    "#### 독립변수 (전반전 경기 내용)\n",
    "\n",
    "\n",
    "#### 종속변수 (승/비승) - Result\n",
    "- win : 1, nowin : 0"
   ]
  },
  {
   "cell_type": "markdown",
   "id": "a474a420",
   "metadata": {},
   "source": [
    "## 1. 데이터 가져오기"
   ]
  },
  {
   "cell_type": "markdown",
   "id": "4ab94c74",
   "metadata": {},
   "source": [
    "### (1)크롤링한 전체 경기 데이터 가져오기, 병합\n",
    "- 데이터가 3개릐 csv파일로 나눠져 있음\n",
    "- excel에서 미리 win/draw/lose 결과흫 골로 비교하여 열 생성\n",
    "- 미리 엑셀에서 soccer3.csv에만 추가되어있던 열들을 삭제 처리\n",
    "\n",
    "- soccer_df1 데이터 갯수 : 64\n",
    "- soccer_df2 데이터 갯수 : 300\n",
    "- soccer_df3 데이터 갯수 : 172\n",
    "- total = 536"
   ]
  },
  {
   "cell_type": "code",
   "execution_count": 2,
   "id": "7f5a6058",
   "metadata": {},
   "outputs": [],
   "source": [
    "import numpy as np\n",
    "import pandas as pd"
   ]
  },
  {
   "cell_type": "code",
   "execution_count": 3,
   "id": "ab0cce09",
   "metadata": {},
   "outputs": [],
   "source": [
    "soccer_df1 = pd.read_csv('C:/half-time-analyze/win-nonwin/res/soccer.csv', header = 0, engine = 'python')\n",
    "soccer_df2 = pd.read_csv('C:/half-time-analyze/win-nonwin/res/soccer2.csv', header = 0, engine = 'python')\n",
    "soccer_df3 = pd.read_csv('C:/half-time-analyze/win-nonwin/res/soccer3.csv', header = 0, engine = 'python')"
   ]
  },
  {
   "cell_type": "code",
   "execution_count": 4,
   "id": "d2b9f9fa",
   "metadata": {},
   "outputs": [
    {
     "name": "stdout",
     "output_type": "stream",
     "text": [
      "<class 'pandas.core.frame.DataFrame'>\n",
      "RangeIndex: 64 entries, 0 to 63\n",
      "Data columns (total 61 columns):\n",
      " #   Column                    Non-Null Count  Dtype  \n",
      "---  ------                    --------------  -----  \n",
      " 0   Match_date                64 non-null     object \n",
      " 1   teamName                  64 non-null     object \n",
      " 2   homeAway                  64 non-null     int64  \n",
      " 3   Ball Possession           64 non-null     int64  \n",
      " 4   Goal Attempts             64 non-null     int64  \n",
      " 5   Shots On                  64 non-null     int64  \n",
      " 6   Shots Off                 64 non-null     int64  \n",
      " 7   Blocked Shots             64 non-null     int64  \n",
      " 8   Free kick                 64 non-null     int64  \n",
      " 9   Offsides                  64 non-null     int64  \n",
      " 10  Throw Ins                 64 non-null     int64  \n",
      " 11  Saves                     64 non-null     int64  \n",
      " 12  Fouls Commited            64 non-null     int64  \n",
      " 13  Red Cards                 64 non-null     int64  \n",
      " 14  Yellow Cards              64 non-null     int64  \n",
      " 15  Assists 1st Half          64 non-null     int64  \n",
      " 16  Assists 2nd Half          64 non-null     int64  \n",
      " 17  Ball Possession 1st Half  64 non-null     int64  \n",
      " 18  Ball Possession 2nd Half  64 non-null     int64  \n",
      " 19  Blockes Shots 1st Half    64 non-null     int64  \n",
      " 20  Blockes Shots 2nd Half    64 non-null     int64  \n",
      " 21  Corners                   64 non-null     int64  \n",
      " 22  Corners 1st Half          64 non-null     int64  \n",
      " 23  Corners 2nd Half          64 non-null     int64  \n",
      " 24  Counter Attacks           64 non-null     int64  \n",
      " 25  Counter Attacks 1st Half  64 non-null     int64  \n",
      " 26  Counter Attacks 2nd Half  64 non-null     int64  \n",
      " 27  Crosses                   64 non-null     int64  \n",
      " 28  Crosses 1st Half          64 non-null     int64  \n",
      " 29  Crosses 2nd Half          64 non-null     int64  \n",
      " 30  Fouls Commited 1st Half   64 non-null     int64  \n",
      " 31  Fouls Commited 2nd Half   64 non-null     int64  \n",
      " 32  Free kick 1st Half        64 non-null     int64  \n",
      " 33  Free kick 2nd Half        64 non-null     int64  \n",
      " 34  Goal Attempts 1st Half    64 non-null     int64  \n",
      " 35  Goal Attempts 2nd Half    44 non-null     float64\n",
      " 36  Goal Kick                 64 non-null     int64  \n",
      " 37  Goal Kick 1st Half        64 non-null     int64  \n",
      " 38  Goal Kick 2nd Half        64 non-null     int64  \n",
      " 39  Goals 1st Half            64 non-null     int64  \n",
      " 40  Goals 2nd Half            64 non-null     int64  \n",
      " 41  Offsides 1st Half         64 non-null     int64  \n",
      " 42  Offsides 2nd Half         64 non-null     int64  \n",
      " 43  Red Cards 1st Half        64 non-null     int64  \n",
      " 44  Red Cards 2nd Half        44 non-null     float64\n",
      " 45  Saves 1st Half            64 non-null     int64  \n",
      " 46  Saves 2nd Half            64 non-null     int64  \n",
      " 47  Shots Off 1st Half        64 non-null     int64  \n",
      " 48  Shots Off 2nd Half        64 non-null     int64  \n",
      " 49  Shots On 1st Half         64 non-null     int64  \n",
      " 50  Shots On 2nd Half         64 non-null     int64  \n",
      " 51  Substitute                64 non-null     int64  \n",
      " 52  Substitute 1st Half       64 non-null     int64  \n",
      " 53  Substitute 2nd Half       64 non-null     int64  \n",
      " 54  Throw Ins 1st Half        64 non-null     int64  \n",
      " 55  Throw Ins 2nd Half        64 non-null     int64  \n",
      " 56  Treatment 1st Half        64 non-null     int64  \n",
      " 57  Treatment 2nd Half        64 non-null     int64  \n",
      " 58  Yellow Cards 1st Half     64 non-null     int64  \n",
      " 59  Yellow Cards 2nd Half     44 non-null     float64\n",
      " 60  Result                    64 non-null     object \n",
      "dtypes: float64(3), int64(55), object(3)\n",
      "memory usage: 30.6+ KB\n"
     ]
    }
   ],
   "source": [
    "#데이터 확인\n",
    "soccer_df1.info()"
   ]
  },
  {
   "cell_type": "code",
   "execution_count": 5,
   "id": "10dd83a3",
   "metadata": {},
   "outputs": [
    {
     "name": "stdout",
     "output_type": "stream",
     "text": [
      "<class 'pandas.core.frame.DataFrame'>\n",
      "RangeIndex: 300 entries, 0 to 299\n",
      "Data columns (total 61 columns):\n",
      " #   Column                    Non-Null Count  Dtype  \n",
      "---  ------                    --------------  -----  \n",
      " 0   Match_date                300 non-null    object \n",
      " 1   teamName                  300 non-null    object \n",
      " 2   homeAway                  300 non-null    int64  \n",
      " 3   Ball Possession           298 non-null    float64\n",
      " 4   Goal Attempts             298 non-null    float64\n",
      " 5   Shots On                  298 non-null    float64\n",
      " 6   Shots Off                 298 non-null    float64\n",
      " 7   Blocked Shots             298 non-null    float64\n",
      " 8   Free kick                 298 non-null    float64\n",
      " 9   Offsides                  298 non-null    float64\n",
      " 10  Throw Ins                 298 non-null    float64\n",
      " 11  Saves                     298 non-null    float64\n",
      " 12  Fouls Commited            298 non-null    float64\n",
      " 13  Red Cards                 298 non-null    float64\n",
      " 14  Yellow Cards              298 non-null    float64\n",
      " 15  Assists 1st Half          298 non-null    float64\n",
      " 16  Assists 2nd Half          298 non-null    float64\n",
      " 17  Ball Possession 1st Half  298 non-null    float64\n",
      " 18  Ball Possession 2nd Half  298 non-null    float64\n",
      " 19  Blockes Shots 1st Half    298 non-null    float64\n",
      " 20  Blockes Shots 2nd Half    298 non-null    float64\n",
      " 21  Corners                   298 non-null    float64\n",
      " 22  Corners 1st Half          298 non-null    float64\n",
      " 23  Corners 2nd Half          298 non-null    float64\n",
      " 24  Counter Attacks           298 non-null    float64\n",
      " 25  Counter Attacks 1st Half  298 non-null    float64\n",
      " 26  Counter Attacks 2nd Half  298 non-null    float64\n",
      " 27  Crosses                   298 non-null    float64\n",
      " 28  Crosses 1st Half          298 non-null    float64\n",
      " 29  Crosses 2nd Half          298 non-null    float64\n",
      " 30  Fouls Commited 1st Half   298 non-null    float64\n",
      " 31  Fouls Commited 2nd Half   298 non-null    float64\n",
      " 32  Free kick 1st Half        298 non-null    float64\n",
      " 33  Free kick 2nd Half        298 non-null    float64\n",
      " 34  Goal Attempts 1st Half    296 non-null    float64\n",
      " 35  Goal Attempts 2nd Half    276 non-null    float64\n",
      " 36  Goal Kick                 298 non-null    float64\n",
      " 37  Goal Kick 1st Half        298 non-null    float64\n",
      " 38  Goal Kick 2nd Half        298 non-null    float64\n",
      " 39  Goals 1st Half            298 non-null    float64\n",
      " 40  Goals 2nd Half            298 non-null    float64\n",
      " 41  Offsides 1st Half         298 non-null    float64\n",
      " 42  Offsides 2nd Half         298 non-null    float64\n",
      " 43  Red Cards 1st Half        298 non-null    float64\n",
      " 44  Red Cards 2nd Half        276 non-null    float64\n",
      " 45  Saves 1st Half            298 non-null    float64\n",
      " 46  Saves 2nd Half            298 non-null    float64\n",
      " 47  Shots Off 1st Half        298 non-null    float64\n",
      " 48  Shots Off 2nd Half        298 non-null    float64\n",
      " 49  Shots On 1st Half         298 non-null    float64\n",
      " 50  Shots On 2nd Half         298 non-null    float64\n",
      " 51  Substitute                298 non-null    float64\n",
      " 52  Substitute 1st Half       298 non-null    float64\n",
      " 53  Substitute 2nd Half       298 non-null    float64\n",
      " 54  Throw Ins 1st Half        298 non-null    float64\n",
      " 55  Throw Ins 2nd Half        298 non-null    float64\n",
      " 56  Treatment 1st Half        298 non-null    float64\n",
      " 57  Treatment 2nd Half        298 non-null    float64\n",
      " 58  Yellow Cards 1st Half     298 non-null    float64\n",
      " 59  Yellow Cards 2nd Half     276 non-null    float64\n",
      " 60  Result                    298 non-null    object \n",
      "dtypes: float64(57), int64(1), object(3)\n",
      "memory usage: 143.1+ KB\n"
     ]
    }
   ],
   "source": [
    "soccer_df2.info()"
   ]
  },
  {
   "cell_type": "code",
   "execution_count": 6,
   "id": "6bba9772",
   "metadata": {},
   "outputs": [
    {
     "name": "stdout",
     "output_type": "stream",
     "text": [
      "<class 'pandas.core.frame.DataFrame'>\n",
      "RangeIndex: 172 entries, 0 to 171\n",
      "Data columns (total 61 columns):\n",
      " #   Column                    Non-Null Count  Dtype  \n",
      "---  ------                    --------------  -----  \n",
      " 0   Match_date                172 non-null    object \n",
      " 1   teamName                  172 non-null    object \n",
      " 2   homeAway                  172 non-null    int64  \n",
      " 3   Ball Possession           168 non-null    float64\n",
      " 4   Goal Attempts             168 non-null    float64\n",
      " 5   Shots On                  168 non-null    float64\n",
      " 6   Shots Off                 168 non-null    float64\n",
      " 7   Blocked Shots             168 non-null    float64\n",
      " 8   Free kick                 168 non-null    float64\n",
      " 9   Offsides                  168 non-null    float64\n",
      " 10  Throw Ins                 168 non-null    float64\n",
      " 11  Saves                     168 non-null    float64\n",
      " 12  Fouls Commited            168 non-null    float64\n",
      " 13  Red Cards                 168 non-null    float64\n",
      " 14  Yellow Cards              168 non-null    float64\n",
      " 15  Assists 1st Half          168 non-null    float64\n",
      " 16  Assists 2nd Half          168 non-null    float64\n",
      " 17  Ball Possession 1st Half  168 non-null    float64\n",
      " 18  Ball Possession 2nd Half  168 non-null    float64\n",
      " 19  Blockes Shots 1st Half    168 non-null    float64\n",
      " 20  Blockes Shots 2nd Half    168 non-null    float64\n",
      " 21  Corners                   168 non-null    float64\n",
      " 22  Corners 1st Half          168 non-null    float64\n",
      " 23  Corners 2nd Half          168 non-null    float64\n",
      " 24  Counter Attacks           168 non-null    float64\n",
      " 25  Counter Attacks 1st Half  168 non-null    float64\n",
      " 26  Counter Attacks 2nd Half  168 non-null    float64\n",
      " 27  Crosses                   168 non-null    float64\n",
      " 28  Crosses 1st Half          168 non-null    float64\n",
      " 29  Crosses 2nd Half          168 non-null    float64\n",
      " 30  Fouls Commited 1st Half   168 non-null    float64\n",
      " 31  Fouls Commited 2nd Half   168 non-null    float64\n",
      " 32  Free kick 1st Half        168 non-null    float64\n",
      " 33  Free kick 2nd Half        168 non-null    float64\n",
      " 34  Goal Attempts 1st Half    168 non-null    float64\n",
      " 35  Goal Attempts 2nd Half    168 non-null    float64\n",
      " 36  Goal Kick                 168 non-null    float64\n",
      " 37  Goal Kick 1st Half        168 non-null    float64\n",
      " 38  Goal Kick 2nd Half        168 non-null    float64\n",
      " 39  Goals 1st Half            168 non-null    float64\n",
      " 40  Goals 2nd Half            168 non-null    float64\n",
      " 41  Offsides 1st Half         168 non-null    float64\n",
      " 42  Offsides 2nd Half         168 non-null    float64\n",
      " 43  Red Cards 1st Half        168 non-null    float64\n",
      " 44  Red Cards 2nd Half        168 non-null    float64\n",
      " 45  Saves 1st Half            168 non-null    float64\n",
      " 46  Saves 2nd Half            168 non-null    float64\n",
      " 47  Shots Off 1st Half        168 non-null    float64\n",
      " 48  Shots Off 2nd Half        168 non-null    float64\n",
      " 49  Shots On 1st Half         168 non-null    float64\n",
      " 50  Shots On 2nd Half         168 non-null    float64\n",
      " 51  Substitute                168 non-null    float64\n",
      " 52  Substitute 1st Half       168 non-null    float64\n",
      " 53  Substitute 2nd Half       168 non-null    float64\n",
      " 54  Throw Ins 1st Half        168 non-null    float64\n",
      " 55  Throw Ins 2nd Half        168 non-null    float64\n",
      " 56  Treatment 1st Half        168 non-null    float64\n",
      " 57  Treatment 2nd Half        168 non-null    float64\n",
      " 58  Yellow Cards 1st Half     168 non-null    float64\n",
      " 59  Yellow Cards 2nd Half     168 non-null    float64\n",
      " 60  Result                    168 non-null    object \n",
      "dtypes: float64(57), int64(1), object(3)\n",
      "memory usage: 82.1+ KB\n"
     ]
    }
   ],
   "source": [
    "soccer_df3.info()"
   ]
  },
  {
   "cell_type": "code",
   "execution_count": 7,
   "id": "6dfa060e",
   "metadata": {},
   "outputs": [
    {
     "name": "stdout",
     "output_type": "stream",
     "text": [
      "<class 'pandas.core.frame.DataFrame'>\n",
      "Int64Index: 536 entries, 0 to 171\n",
      "Data columns (total 61 columns):\n",
      " #   Column                    Non-Null Count  Dtype  \n",
      "---  ------                    --------------  -----  \n",
      " 0   Match_date                536 non-null    object \n",
      " 1   teamName                  536 non-null    object \n",
      " 2   homeAway                  536 non-null    int64  \n",
      " 3   Ball Possession           530 non-null    float64\n",
      " 4   Goal Attempts             530 non-null    float64\n",
      " 5   Shots On                  530 non-null    float64\n",
      " 6   Shots Off                 530 non-null    float64\n",
      " 7   Blocked Shots             530 non-null    float64\n",
      " 8   Free kick                 530 non-null    float64\n",
      " 9   Offsides                  530 non-null    float64\n",
      " 10  Throw Ins                 530 non-null    float64\n",
      " 11  Saves                     530 non-null    float64\n",
      " 12  Fouls Commited            530 non-null    float64\n",
      " 13  Red Cards                 530 non-null    float64\n",
      " 14  Yellow Cards              530 non-null    float64\n",
      " 15  Assists 1st Half          530 non-null    float64\n",
      " 16  Assists 2nd Half          530 non-null    float64\n",
      " 17  Ball Possession 1st Half  530 non-null    float64\n",
      " 18  Ball Possession 2nd Half  530 non-null    float64\n",
      " 19  Blockes Shots 1st Half    530 non-null    float64\n",
      " 20  Blockes Shots 2nd Half    530 non-null    float64\n",
      " 21  Corners                   530 non-null    float64\n",
      " 22  Corners 1st Half          530 non-null    float64\n",
      " 23  Corners 2nd Half          530 non-null    float64\n",
      " 24  Counter Attacks           530 non-null    float64\n",
      " 25  Counter Attacks 1st Half  530 non-null    float64\n",
      " 26  Counter Attacks 2nd Half  530 non-null    float64\n",
      " 27  Crosses                   530 non-null    float64\n",
      " 28  Crosses 1st Half          530 non-null    float64\n",
      " 29  Crosses 2nd Half          530 non-null    float64\n",
      " 30  Fouls Commited 1st Half   530 non-null    float64\n",
      " 31  Fouls Commited 2nd Half   530 non-null    float64\n",
      " 32  Free kick 1st Half        530 non-null    float64\n",
      " 33  Free kick 2nd Half        530 non-null    float64\n",
      " 34  Goal Attempts 1st Half    528 non-null    float64\n",
      " 35  Goal Attempts 2nd Half    488 non-null    float64\n",
      " 36  Goal Kick                 530 non-null    float64\n",
      " 37  Goal Kick 1st Half        530 non-null    float64\n",
      " 38  Goal Kick 2nd Half        530 non-null    float64\n",
      " 39  Goals 1st Half            530 non-null    float64\n",
      " 40  Goals 2nd Half            530 non-null    float64\n",
      " 41  Offsides 1st Half         530 non-null    float64\n",
      " 42  Offsides 2nd Half         530 non-null    float64\n",
      " 43  Red Cards 1st Half        530 non-null    float64\n",
      " 44  Red Cards 2nd Half        488 non-null    float64\n",
      " 45  Saves 1st Half            530 non-null    float64\n",
      " 46  Saves 2nd Half            530 non-null    float64\n",
      " 47  Shots Off 1st Half        530 non-null    float64\n",
      " 48  Shots Off 2nd Half        530 non-null    float64\n",
      " 49  Shots On 1st Half         530 non-null    float64\n",
      " 50  Shots On 2nd Half         530 non-null    float64\n",
      " 51  Substitute                530 non-null    float64\n",
      " 52  Substitute 1st Half       530 non-null    float64\n",
      " 53  Substitute 2nd Half       530 non-null    float64\n",
      " 54  Throw Ins 1st Half        530 non-null    float64\n",
      " 55  Throw Ins 2nd Half        530 non-null    float64\n",
      " 56  Treatment 1st Half        530 non-null    float64\n",
      " 57  Treatment 2nd Half        530 non-null    float64\n",
      " 58  Yellow Cards 1st Half     530 non-null    float64\n",
      " 59  Yellow Cards 2nd Half     488 non-null    float64\n",
      " 60  Result                    530 non-null    object \n",
      "dtypes: float64(57), int64(1), object(3)\n",
      "memory usage: 259.6+ KB\n"
     ]
    }
   ],
   "source": [
    "#데이터 병합\n",
    "soccer_df = pd.concat([soccer_df1, soccer_df2, soccer_df3])\n",
    "soccer_df.info()"
   ]
  },
  {
   "cell_type": "markdown",
   "id": "9b325c78",
   "metadata": {},
   "source": [
    "- 결측치 존재 -> 사용할 전반전 데이터셋을 추출한 뒤 다시 살펴봄"
   ]
  },
  {
   "cell_type": "markdown",
   "id": "27a141cf",
   "metadata": {},
   "source": [
    "### (2) 전반전 데이터만 분리"
   ]
  },
  {
   "cell_type": "code",
   "execution_count": 8,
   "id": "05180630",
   "metadata": {},
   "outputs": [
    {
     "name": "stdout",
     "output_type": "stream",
     "text": [
      "<class 'pandas.core.frame.DataFrame'>\n",
      "Int64Index: 536 entries, 0 to 171\n",
      "Data columns (total 10 columns):\n",
      " #   Column                    Non-Null Count  Dtype  \n",
      "---  ------                    --------------  -----  \n",
      " 0   homeAway                  536 non-null    int64  \n",
      " 1   Ball Possession 1st Half  530 non-null    float64\n",
      " 2   Corners 1st Half          530 non-null    float64\n",
      " 3   Fouls Commited 1st Half   530 non-null    float64\n",
      " 4   Goals 1st Half            530 non-null    float64\n",
      " 5   Red Cards 1st Half        530 non-null    float64\n",
      " 6   Shots Off 1st Half        530 non-null    float64\n",
      " 7   Shots On 1st Half         530 non-null    float64\n",
      " 8   Yellow Cards 1st Half     530 non-null    float64\n",
      " 9   Result                    530 non-null    object \n",
      "dtypes: float64(8), int64(1), object(1)\n",
      "memory usage: 46.1+ KB\n"
     ]
    }
   ],
   "source": [
    "soccer_half_df = soccer_df[['homeAway', 'Ball Possession 1st Half', 'Corners 1st Half', 'Fouls Commited 1st Half', 'Goals 1st Half', 'Red Cards 1st Half', 'Shots Off 1st Half','Shots On 1st Half', 'Yellow Cards 1st Half', 'Result']]\n",
    "soccer_half_df.info()"
   ]
  },
  {
   "cell_type": "markdown",
   "id": "2dbc903d",
   "metadata": {},
   "source": [
    "- 결측치가 6개인 것을 확인\n",
    "- excel파일 확인 시 6행이 통째로 데이터가 없음을 확인"
   ]
  },
  {
   "cell_type": "markdown",
   "id": "50774404",
   "metadata": {},
   "source": [
    "### (3) 결측치 확인, 결측치 처리\n",
    "- 결측치가 행이 모두 비워져 있는 형태라서 6개의 데이터를 삭제 처리"
   ]
  },
  {
   "cell_type": "code",
   "execution_count": 9,
   "id": "71273f9f",
   "metadata": {},
   "outputs": [
    {
     "data": {
      "text/plain": [
       "homeAway                    0\n",
       "Ball Possession 1st Half    6\n",
       "Corners 1st Half            6\n",
       "Fouls Commited 1st Half     6\n",
       "Goals 1st Half              6\n",
       "Red Cards 1st Half          6\n",
       "Shots Off 1st Half          6\n",
       "Shots On 1st Half           6\n",
       "Yellow Cards 1st Half       6\n",
       "Result                      6\n",
       "dtype: int64"
      ]
     },
     "execution_count": 9,
     "metadata": {},
     "output_type": "execute_result"
    }
   ],
   "source": [
    "#결측치 확인\n",
    "soccer_half_df.isnull().sum()"
   ]
  },
  {
   "cell_type": "code",
   "execution_count": 10,
   "id": "8e758fc4",
   "metadata": {},
   "outputs": [
    {
     "data": {
      "text/plain": [
       "homeAway                    0\n",
       "Ball Possession 1st Half    0\n",
       "Corners 1st Half            0\n",
       "Fouls Commited 1st Half     0\n",
       "Goals 1st Half              0\n",
       "Red Cards 1st Half          0\n",
       "Shots Off 1st Half          0\n",
       "Shots On 1st Half           0\n",
       "Yellow Cards 1st Half       0\n",
       "Result                      0\n",
       "dtype: int64"
      ]
     },
     "execution_count": 10,
     "metadata": {},
     "output_type": "execute_result"
    }
   ],
   "source": [
    "#일단 결측치들이 행이 전부 없으므로 결측치를 제외하고 분석을 진행\n",
    "#결측치가 있는 행을 삭제\n",
    "soccer_half_df2 = soccer_half_df.dropna(axis = 0)\n",
    "soccer_half_df2.isnull().sum()"
   ]
  },
  {
   "cell_type": "markdown",
   "id": "4b43c3f8",
   "metadata": {},
   "source": [
    "- 결측치가 없음을 확인 완료"
   ]
  },
  {
   "cell_type": "markdown",
   "id": "7fb8d17e",
   "metadata": {},
   "source": [
    "### (4) 변수 생성, 변경\n",
    "- Shots 1st Half 변수 생성\n",
    "- Result 변수 value 변경하기(W -> 1, L&D -> 0)\n",
    "- homeAway 값 조정(현재 home = 1, away = 2로 설정되어 있음)\n",
    "- 변수명에 공백을 _로 변경\n",
    "- 데이터 내보내기"
   ]
  },
  {
   "cell_type": "code",
   "execution_count": 11,
   "id": "ecfe29aa",
   "metadata": {},
   "outputs": [],
   "source": [
    "#Shots per 1st Half 변수 만들기\n",
    "#데이터에 변수 추가(insert)\n",
    "soccer_half_df2.insert(0, column = 'Shots 1st Half', value = 0)"
   ]
  },
  {
   "cell_type": "code",
   "execution_count": 13,
   "id": "e1861534",
   "metadata": {},
   "outputs": [
    {
     "name": "stderr",
     "output_type": "stream",
     "text": [
      "C:\\Users\\srsr1\\AppData\\Local\\Temp\\ipykernel_2688\\365942702.py:3: SettingWithCopyWarning: \n",
      "A value is trying to be set on a copy of a slice from a DataFrame.\n",
      "Try using .loc[row_indexer,col_indexer] = value instead\n",
      "\n",
      "See the caveats in the documentation: https://pandas.pydata.org/pandas-docs/stable/user_guide/indexing.html#returning-a-view-versus-a-copy\n",
      "  soccer_half_df3['Shots 1st Half'] = soccer_half_df2['Shots On 1st Half'] + soccer_half_df2['Shots Off 1st Half']\n"
     ]
    },
    {
     "data": {
      "text/html": [
       "<div>\n",
       "<style scoped>\n",
       "    .dataframe tbody tr th:only-of-type {\n",
       "        vertical-align: middle;\n",
       "    }\n",
       "\n",
       "    .dataframe tbody tr th {\n",
       "        vertical-align: top;\n",
       "    }\n",
       "\n",
       "    .dataframe thead th {\n",
       "        text-align: right;\n",
       "    }\n",
       "</style>\n",
       "<table border=\"1\" class=\"dataframe\">\n",
       "  <thead>\n",
       "    <tr style=\"text-align: right;\">\n",
       "      <th></th>\n",
       "      <th>Shots 1st Half</th>\n",
       "      <th>homeAway</th>\n",
       "      <th>Ball Possession 1st Half</th>\n",
       "      <th>Corners 1st Half</th>\n",
       "      <th>Fouls Commited 1st Half</th>\n",
       "      <th>Goals 1st Half</th>\n",
       "      <th>Red Cards 1st Half</th>\n",
       "      <th>Shots Off 1st Half</th>\n",
       "      <th>Shots On 1st Half</th>\n",
       "      <th>Yellow Cards 1st Half</th>\n",
       "      <th>Result</th>\n",
       "    </tr>\n",
       "  </thead>\n",
       "  <tbody>\n",
       "    <tr>\n",
       "      <th>0</th>\n",
       "      <td>1.0</td>\n",
       "      <td>1</td>\n",
       "      <td>45.0</td>\n",
       "      <td>1.0</td>\n",
       "      <td>8.0</td>\n",
       "      <td>0.0</td>\n",
       "      <td>0.0</td>\n",
       "      <td>0.0</td>\n",
       "      <td>1.0</td>\n",
       "      <td>0.0</td>\n",
       "      <td>L</td>\n",
       "    </tr>\n",
       "    <tr>\n",
       "      <th>1</th>\n",
       "      <td>3.0</td>\n",
       "      <td>2</td>\n",
       "      <td>55.0</td>\n",
       "      <td>2.0</td>\n",
       "      <td>5.0</td>\n",
       "      <td>1.0</td>\n",
       "      <td>0.0</td>\n",
       "      <td>1.0</td>\n",
       "      <td>2.0</td>\n",
       "      <td>1.0</td>\n",
       "      <td>W</td>\n",
       "    </tr>\n",
       "    <tr>\n",
       "      <th>2</th>\n",
       "      <td>2.0</td>\n",
       "      <td>1</td>\n",
       "      <td>29.0</td>\n",
       "      <td>3.0</td>\n",
       "      <td>5.0</td>\n",
       "      <td>1.0</td>\n",
       "      <td>0.0</td>\n",
       "      <td>1.0</td>\n",
       "      <td>1.0</td>\n",
       "      <td>1.0</td>\n",
       "      <td>D</td>\n",
       "    </tr>\n",
       "    <tr>\n",
       "      <th>3</th>\n",
       "      <td>2.0</td>\n",
       "      <td>2</td>\n",
       "      <td>71.0</td>\n",
       "      <td>1.0</td>\n",
       "      <td>4.0</td>\n",
       "      <td>0.0</td>\n",
       "      <td>0.0</td>\n",
       "      <td>2.0</td>\n",
       "      <td>0.0</td>\n",
       "      <td>0.0</td>\n",
       "      <td>D</td>\n",
       "    </tr>\n",
       "    <tr>\n",
       "      <th>4</th>\n",
       "      <td>7.0</td>\n",
       "      <td>1</td>\n",
       "      <td>58.0</td>\n",
       "      <td>6.0</td>\n",
       "      <td>7.0</td>\n",
       "      <td>2.0</td>\n",
       "      <td>0.0</td>\n",
       "      <td>2.0</td>\n",
       "      <td>5.0</td>\n",
       "      <td>1.0</td>\n",
       "      <td>W</td>\n",
       "    </tr>\n",
       "    <tr>\n",
       "      <th>5</th>\n",
       "      <td>3.0</td>\n",
       "      <td>2</td>\n",
       "      <td>42.0</td>\n",
       "      <td>1.0</td>\n",
       "      <td>3.0</td>\n",
       "      <td>1.0</td>\n",
       "      <td>0.0</td>\n",
       "      <td>2.0</td>\n",
       "      <td>1.0</td>\n",
       "      <td>0.0</td>\n",
       "      <td>L</td>\n",
       "    </tr>\n",
       "    <tr>\n",
       "      <th>6</th>\n",
       "      <td>10.0</td>\n",
       "      <td>1</td>\n",
       "      <td>64.0</td>\n",
       "      <td>7.0</td>\n",
       "      <td>6.0</td>\n",
       "      <td>0.0</td>\n",
       "      <td>0.0</td>\n",
       "      <td>5.0</td>\n",
       "      <td>5.0</td>\n",
       "      <td>0.0</td>\n",
       "      <td>W</td>\n",
       "    </tr>\n",
       "    <tr>\n",
       "      <th>7</th>\n",
       "      <td>1.0</td>\n",
       "      <td>2</td>\n",
       "      <td>36.0</td>\n",
       "      <td>0.0</td>\n",
       "      <td>8.0</td>\n",
       "      <td>0.0</td>\n",
       "      <td>0.0</td>\n",
       "      <td>1.0</td>\n",
       "      <td>0.0</td>\n",
       "      <td>2.0</td>\n",
       "      <td>L</td>\n",
       "    </tr>\n",
       "    <tr>\n",
       "      <th>8</th>\n",
       "      <td>3.0</td>\n",
       "      <td>1</td>\n",
       "      <td>36.0</td>\n",
       "      <td>2.0</td>\n",
       "      <td>9.0</td>\n",
       "      <td>1.0</td>\n",
       "      <td>0.0</td>\n",
       "      <td>1.0</td>\n",
       "      <td>2.0</td>\n",
       "      <td>2.0</td>\n",
       "      <td>W</td>\n",
       "    </tr>\n",
       "    <tr>\n",
       "      <th>9</th>\n",
       "      <td>6.0</td>\n",
       "      <td>2</td>\n",
       "      <td>64.0</td>\n",
       "      <td>4.0</td>\n",
       "      <td>10.0</td>\n",
       "      <td>0.0</td>\n",
       "      <td>0.0</td>\n",
       "      <td>4.0</td>\n",
       "      <td>2.0</td>\n",
       "      <td>2.0</td>\n",
       "      <td>L</td>\n",
       "    </tr>\n",
       "    <tr>\n",
       "      <th>10</th>\n",
       "      <td>4.0</td>\n",
       "      <td>1</td>\n",
       "      <td>47.0</td>\n",
       "      <td>3.0</td>\n",
       "      <td>5.0</td>\n",
       "      <td>1.0</td>\n",
       "      <td>0.0</td>\n",
       "      <td>1.0</td>\n",
       "      <td>3.0</td>\n",
       "      <td>1.0</td>\n",
       "      <td>W</td>\n",
       "    </tr>\n",
       "    <tr>\n",
       "      <th>11</th>\n",
       "      <td>7.0</td>\n",
       "      <td>2</td>\n",
       "      <td>53.0</td>\n",
       "      <td>0.0</td>\n",
       "      <td>3.0</td>\n",
       "      <td>1.0</td>\n",
       "      <td>0.0</td>\n",
       "      <td>3.0</td>\n",
       "      <td>4.0</td>\n",
       "      <td>0.0</td>\n",
       "      <td>L</td>\n",
       "    </tr>\n",
       "    <tr>\n",
       "      <th>12</th>\n",
       "      <td>3.0</td>\n",
       "      <td>1</td>\n",
       "      <td>35.0</td>\n",
       "      <td>2.0</td>\n",
       "      <td>6.0</td>\n",
       "      <td>0.0</td>\n",
       "      <td>0.0</td>\n",
       "      <td>2.0</td>\n",
       "      <td>1.0</td>\n",
       "      <td>1.0</td>\n",
       "      <td>L</td>\n",
       "    </tr>\n",
       "    <tr>\n",
       "      <th>13</th>\n",
       "      <td>6.0</td>\n",
       "      <td>2</td>\n",
       "      <td>65.0</td>\n",
       "      <td>13.0</td>\n",
       "      <td>6.0</td>\n",
       "      <td>1.0</td>\n",
       "      <td>0.0</td>\n",
       "      <td>1.0</td>\n",
       "      <td>5.0</td>\n",
       "      <td>0.0</td>\n",
       "      <td>W</td>\n",
       "    </tr>\n",
       "    <tr>\n",
       "      <th>14</th>\n",
       "      <td>4.0</td>\n",
       "      <td>1</td>\n",
       "      <td>62.0</td>\n",
       "      <td>0.0</td>\n",
       "      <td>4.0</td>\n",
       "      <td>0.0</td>\n",
       "      <td>0.0</td>\n",
       "      <td>2.0</td>\n",
       "      <td>2.0</td>\n",
       "      <td>2.0</td>\n",
       "      <td>L</td>\n",
       "    </tr>\n",
       "    <tr>\n",
       "      <th>15</th>\n",
       "      <td>7.0</td>\n",
       "      <td>2</td>\n",
       "      <td>38.0</td>\n",
       "      <td>1.0</td>\n",
       "      <td>5.0</td>\n",
       "      <td>2.0</td>\n",
       "      <td>0.0</td>\n",
       "      <td>4.0</td>\n",
       "      <td>3.0</td>\n",
       "      <td>0.0</td>\n",
       "      <td>W</td>\n",
       "    </tr>\n",
       "    <tr>\n",
       "      <th>16</th>\n",
       "      <td>7.0</td>\n",
       "      <td>1</td>\n",
       "      <td>63.0</td>\n",
       "      <td>4.0</td>\n",
       "      <td>1.0</td>\n",
       "      <td>1.0</td>\n",
       "      <td>0.0</td>\n",
       "      <td>4.0</td>\n",
       "      <td>3.0</td>\n",
       "      <td>0.0</td>\n",
       "      <td>D</td>\n",
       "    </tr>\n",
       "    <tr>\n",
       "      <th>17</th>\n",
       "      <td>1.0</td>\n",
       "      <td>2</td>\n",
       "      <td>37.0</td>\n",
       "      <td>2.0</td>\n",
       "      <td>2.0</td>\n",
       "      <td>0.0</td>\n",
       "      <td>0.0</td>\n",
       "      <td>0.0</td>\n",
       "      <td>1.0</td>\n",
       "      <td>0.0</td>\n",
       "      <td>D</td>\n",
       "    </tr>\n",
       "    <tr>\n",
       "      <th>18</th>\n",
       "      <td>1.0</td>\n",
       "      <td>1</td>\n",
       "      <td>18.0</td>\n",
       "      <td>1.0</td>\n",
       "      <td>3.0</td>\n",
       "      <td>0.0</td>\n",
       "      <td>0.0</td>\n",
       "      <td>1.0</td>\n",
       "      <td>0.0</td>\n",
       "      <td>0.0</td>\n",
       "      <td>L</td>\n",
       "    </tr>\n",
       "    <tr>\n",
       "      <th>19</th>\n",
       "      <td>3.0</td>\n",
       "      <td>2</td>\n",
       "      <td>82.0</td>\n",
       "      <td>1.0</td>\n",
       "      <td>3.0</td>\n",
       "      <td>1.0</td>\n",
       "      <td>0.0</td>\n",
       "      <td>2.0</td>\n",
       "      <td>1.0</td>\n",
       "      <td>1.0</td>\n",
       "      <td>W</td>\n",
       "    </tr>\n",
       "  </tbody>\n",
       "</table>\n",
       "</div>"
      ],
      "text/plain": [
       "    Shots 1st Half  homeAway  Ball Possession 1st Half  Corners 1st Half  \\\n",
       "0              1.0         1                      45.0               1.0   \n",
       "1              3.0         2                      55.0               2.0   \n",
       "2              2.0         1                      29.0               3.0   \n",
       "3              2.0         2                      71.0               1.0   \n",
       "4              7.0         1                      58.0               6.0   \n",
       "5              3.0         2                      42.0               1.0   \n",
       "6             10.0         1                      64.0               7.0   \n",
       "7              1.0         2                      36.0               0.0   \n",
       "8              3.0         1                      36.0               2.0   \n",
       "9              6.0         2                      64.0               4.0   \n",
       "10             4.0         1                      47.0               3.0   \n",
       "11             7.0         2                      53.0               0.0   \n",
       "12             3.0         1                      35.0               2.0   \n",
       "13             6.0         2                      65.0              13.0   \n",
       "14             4.0         1                      62.0               0.0   \n",
       "15             7.0         2                      38.0               1.0   \n",
       "16             7.0         1                      63.0               4.0   \n",
       "17             1.0         2                      37.0               2.0   \n",
       "18             1.0         1                      18.0               1.0   \n",
       "19             3.0         2                      82.0               1.0   \n",
       "\n",
       "    Fouls Commited 1st Half  Goals 1st Half  Red Cards 1st Half  \\\n",
       "0                       8.0             0.0                 0.0   \n",
       "1                       5.0             1.0                 0.0   \n",
       "2                       5.0             1.0                 0.0   \n",
       "3                       4.0             0.0                 0.0   \n",
       "4                       7.0             2.0                 0.0   \n",
       "5                       3.0             1.0                 0.0   \n",
       "6                       6.0             0.0                 0.0   \n",
       "7                       8.0             0.0                 0.0   \n",
       "8                       9.0             1.0                 0.0   \n",
       "9                      10.0             0.0                 0.0   \n",
       "10                      5.0             1.0                 0.0   \n",
       "11                      3.0             1.0                 0.0   \n",
       "12                      6.0             0.0                 0.0   \n",
       "13                      6.0             1.0                 0.0   \n",
       "14                      4.0             0.0                 0.0   \n",
       "15                      5.0             2.0                 0.0   \n",
       "16                      1.0             1.0                 0.0   \n",
       "17                      2.0             0.0                 0.0   \n",
       "18                      3.0             0.0                 0.0   \n",
       "19                      3.0             1.0                 0.0   \n",
       "\n",
       "    Shots Off 1st Half  Shots On 1st Half  Yellow Cards 1st Half Result  \n",
       "0                  0.0                1.0                    0.0      L  \n",
       "1                  1.0                2.0                    1.0      W  \n",
       "2                  1.0                1.0                    1.0      D  \n",
       "3                  2.0                0.0                    0.0      D  \n",
       "4                  2.0                5.0                    1.0      W  \n",
       "5                  2.0                1.0                    0.0      L  \n",
       "6                  5.0                5.0                    0.0      W  \n",
       "7                  1.0                0.0                    2.0      L  \n",
       "8                  1.0                2.0                    2.0      W  \n",
       "9                  4.0                2.0                    2.0      L  \n",
       "10                 1.0                3.0                    1.0      W  \n",
       "11                 3.0                4.0                    0.0      L  \n",
       "12                 2.0                1.0                    1.0      L  \n",
       "13                 1.0                5.0                    0.0      W  \n",
       "14                 2.0                2.0                    2.0      L  \n",
       "15                 4.0                3.0                    0.0      W  \n",
       "16                 4.0                3.0                    0.0      D  \n",
       "17                 0.0                1.0                    0.0      D  \n",
       "18                 1.0                0.0                    0.0      L  \n",
       "19                 2.0                1.0                    1.0      W  "
      ]
     },
     "execution_count": 13,
     "metadata": {},
     "output_type": "execute_result"
    }
   ],
   "source": [
    "# warning발생\n",
    "soccer_half_df3 = soccer_half_df2\n",
    "soccer_half_df3['Shots 1st Half'] = soccer_half_df2['Shots On 1st Half'] + soccer_half_df2['Shots Off 1st Half']\n",
    "soccer_half_df3.head(20)"
   ]
  },
  {
   "cell_type": "code",
   "execution_count": 14,
   "id": "34698d20",
   "metadata": {},
   "outputs": [],
   "source": [
    "#'Result' value 변경\n",
    "win = (soccer_half_df3['Result'] == 'W')\n",
    "draw = (soccer_half_df3['Result'] == 'D')\n",
    "lose = (soccer_half_df3['Result'] == 'L')\n",
    "soccer_half_df3.loc[win, 'Result'] = 1\n",
    "soccer_half_df3.loc[draw, 'Result'] = 0\n",
    "soccer_half_df3.loc[lose, 'Result'] = 0\n",
    "# 'homeAway' value 변경\n",
    "home = (soccer_half_df3['homeAway'] == 1)\n",
    "soccer_half_df3.loc[home, 'homeAway'] = 0\n",
    "away = (soccer_half_df3['homeAway'] == 2)\n",
    "soccer_half_df3.loc[away, 'homeAway'] = 1"
   ]
  },
  {
   "cell_type": "code",
   "execution_count": 15,
   "id": "fff6358f",
   "metadata": {},
   "outputs": [
    {
     "name": "stdout",
     "output_type": "stream",
     "text": [
      "<class 'pandas.core.frame.DataFrame'>\n",
      "Int64Index: 530 entries, 0 to 171\n",
      "Data columns (total 11 columns):\n",
      " #   Column                    Non-Null Count  Dtype  \n",
      "---  ------                    --------------  -----  \n",
      " 0   Shots_1st_Half            530 non-null    float64\n",
      " 1   homeAway                  530 non-null    int64  \n",
      " 2   Ball_Possession_1st_Half  530 non-null    float64\n",
      " 3   Corners_1st_Half          530 non-null    float64\n",
      " 4   Fouls_Commited_1st_Half   530 non-null    float64\n",
      " 5   Goals_1st_Half            530 non-null    float64\n",
      " 6   Red_Cards_1st_Half        530 non-null    float64\n",
      " 7   Shots_Off_1st_Half        530 non-null    float64\n",
      " 8   Shots_On_1st_Half         530 non-null    float64\n",
      " 9   Yellow_Cards_1st_Half     530 non-null    float64\n",
      " 10  Result                    530 non-null    object \n",
      "dtypes: float64(9), int64(1), object(1)\n",
      "memory usage: 49.7+ KB\n"
     ]
    }
   ],
   "source": [
    "# 변수명 내 공간 제거 (빈공간을 '_'로 치환)\n",
    "soccer_half_df3.columns = soccer_half_df3.columns.str.replace(' ', '_')\n",
    "soccer_half_df3.info()"
   ]
  },
  {
   "cell_type": "code",
   "execution_count": 16,
   "id": "274683e9",
   "metadata": {},
   "outputs": [],
   "source": [
    "#데이터 내보내기\n",
    "soccer_half_df3.to_csv('C:/half-time-analyze/win-nonwin/res/soccer_half.csv', index = False)"
   ]
  },
  {
   "cell_type": "markdown",
   "id": "1c3edfea",
   "metadata": {},
   "source": [
    "### (5) 타겟변수 설정\n",
    "- 'Result'변수를 타겟변수에 저장하고 데이터셋에서 삭제"
   ]
  },
  {
   "cell_type": "code",
   "execution_count": 17,
   "id": "76a6a2ad",
   "metadata": {},
   "outputs": [],
   "source": [
    "#타겟 데이터 따로 저장\n",
    "target = soccer_half_df3['Result']\n",
    "#input 데이터에 종속변수가 들어가 있어서 종속변수를 제거\n",
    "soccer_half_df3 = soccer_half_df3.drop(columns=['Result'], axis=1)"
   ]
  },
  {
   "cell_type": "markdown",
   "id": "e0b654b3",
   "metadata": {},
   "source": [
    "## 2. 표준화 작업\n",
    "- 표준화작업\n",
    "- 표준화 작업 결과 확인"
   ]
  },
  {
   "cell_type": "code",
   "execution_count": 18,
   "id": "42d5d2cd",
   "metadata": {},
   "outputs": [],
   "source": [
    "#독립변수로 사용할 데이터를 평균이 0, 분산이 1이되는 정규분포 형태로 수정\n",
    "from sklearn.preprocessing import StandardScaler\n",
    "scaler = StandardScaler()\n",
    "soccer_half_scaled = scaler.fit_transform(soccer_half_df3)"
   ]
  },
  {
   "cell_type": "markdown",
   "id": "32bbe4a0",
   "metadata": {},
   "source": [
    "## 3. 로지스틱 회귀모형 구축\n",
    "- X, Y 설정\n",
    "- 훈련용, 테스트용 데이터셋 분리\n",
    "- 타겟변수 자료형 확이나고 int가 아니면 바꿔주기(object면 에러생김ㅜ)\n",
    "- Y_predict, coef, intercept 확인"
   ]
  },
  {
   "cell_type": "code",
   "execution_count": 19,
   "id": "c4671adb",
   "metadata": {},
   "outputs": [],
   "source": [
    "from sklearn.linear_model import LogisticRegression\n",
    "from sklearn.model_selection import train_test_split"
   ]
  },
  {
   "cell_type": "code",
   "execution_count": 20,
   "id": "4e74c956",
   "metadata": {},
   "outputs": [],
   "source": [
    "# X, Y 설정\n",
    "Y = target\n",
    "X = soccer_half_scaled"
   ]
  },
  {
   "cell_type": "code",
   "execution_count": 21,
   "id": "5bf46dd3",
   "metadata": {},
   "outputs": [],
   "source": [
    "#훈련 데이터와 테스트 데이터 분리\n",
    "#train_input, test_input, train_target, test_target = train_test_split(soccer_half_df2, target, test_size = 0.35, random_state = 0)\n",
    "X_train, X_test, Y_train, Y_test = train_test_split(X, Y, test_size = 0.3, random_state = 0, stratify=Y)"
   ]
  },
  {
   "cell_type": "code",
   "execution_count": 22,
   "id": "4eda20f1",
   "metadata": {},
   "outputs": [
    {
     "name": "stdout",
     "output_type": "stream",
     "text": [
      "(371, 10) (159, 10) (371,) (159,)\n"
     ]
    }
   ],
   "source": [
    "print(X_train.shape, X_test.shape, Y_train.shape, Y_test.shape)"
   ]
  },
  {
   "cell_type": "code",
   "execution_count": 23,
   "id": "b106242b",
   "metadata": {},
   "outputs": [
    {
     "name": "stdout",
     "output_type": "stream",
     "text": [
      "<class 'pandas.core.series.Series'>\n",
      "Int64Index: 371 entries, 39 to 71\n",
      "Series name: Result\n",
      "Non-Null Count  Dtype \n",
      "--------------  ----- \n",
      "371 non-null    object\n",
      "dtypes: object(1)\n",
      "memory usage: 5.8+ KB\n"
     ]
    }
   ],
   "source": [
    "#target 자료형 확인\n",
    "Y_train.info()"
   ]
  },
  {
   "cell_type": "code",
   "execution_count": 24,
   "id": "617491ce",
   "metadata": {},
   "outputs": [
    {
     "name": "stdout",
     "output_type": "stream",
     "text": [
      "<class 'pandas.core.series.Series'>\n",
      "Int64Index: 159 entries, 78 to 153\n",
      "Series name: Result\n",
      "Non-Null Count  Dtype \n",
      "--------------  ----- \n",
      "159 non-null    object\n",
      "dtypes: object(1)\n",
      "memory usage: 2.5+ KB\n"
     ]
    }
   ],
   "source": [
    "#target 자료형 확인\n",
    "Y_test.info()"
   ]
  },
  {
   "cell_type": "code",
   "execution_count": 25,
   "id": "af40d0f6",
   "metadata": {},
   "outputs": [],
   "source": [
    "#target 자료형 변경\n",
    "Y_train = Y_train.astype(int)\n",
    "Y_test = Y_test.astype(int)"
   ]
  },
  {
   "cell_type": "code",
   "execution_count": 26,
   "id": "9da75819",
   "metadata": {},
   "outputs": [
    {
     "name": "stdout",
     "output_type": "stream",
     "text": [
      "39.08 %\n"
     ]
    }
   ],
   "source": [
    "print(round(sum(Y_train)/len(Y_train)*100, 2), '%')"
   ]
  },
  {
   "cell_type": "code",
   "execution_count": 27,
   "id": "cbb7ac18",
   "metadata": {},
   "outputs": [
    {
     "name": "stdout",
     "output_type": "stream",
     "text": [
      "38.99 %\n"
     ]
    }
   ],
   "source": [
    "print(round(sum(Y_test)/len(Y_test)*100, 2), '%')"
   ]
  },
  {
   "cell_type": "code",
   "execution_count": 28,
   "id": "b90b44ff",
   "metadata": {},
   "outputs": [
    {
     "data": {
      "text/plain": [
       "LogisticRegression(max_iter=10000)"
      ]
     },
     "execution_count": 28,
     "metadata": {},
     "output_type": "execute_result"
    }
   ],
   "source": [
    "lr_soccer_half = LogisticRegression(max_iter=10000) #max-iter 확인\n",
    "lr_soccer_half.fit(X_train, Y_train)"
   ]
  },
  {
   "cell_type": "code",
   "execution_count": 29,
   "id": "d7b88ff3",
   "metadata": {},
   "outputs": [],
   "source": [
    "Y_predict = lr_soccer_half.predict(X_test)"
   ]
  },
  {
   "cell_type": "code",
   "execution_count": 30,
   "id": "28231969",
   "metadata": {},
   "outputs": [
    {
     "data": {
      "text/plain": [
       "array([[ 0.00608773, -0.32680543,  0.63873695,  0.2526968 ,  0.09186019,\n",
       "         1.12921195, -0.16102632,  0.12288299, -0.11056196, -0.33749126]])"
      ]
     },
     "execution_count": 30,
     "metadata": {},
     "output_type": "execute_result"
    }
   ],
   "source": [
    "lr_soccer_half.coef_"
   ]
  },
  {
   "cell_type": "code",
   "execution_count": 31,
   "id": "bfad7e23",
   "metadata": {},
   "outputs": [
    {
     "data": {
      "text/plain": [
       "array([-0.52170845])"
      ]
     },
     "execution_count": 31,
     "metadata": {},
     "output_type": "execute_result"
    }
   ],
   "source": [
    "lr_soccer_half.intercept_"
   ]
  },
  {
   "cell_type": "markdown",
   "id": "bccc17c7",
   "metadata": {},
   "source": [
    "## 4. 로지스틱 회귀모형 평가\n",
    "- 오차행렬\n",
    "- 정확도, 정밀도, 재현율, F1\n",
    "- 데이터 넣고 모형 돌리기"
   ]
  },
  {
   "cell_type": "code",
   "execution_count": 33,
   "id": "c3cae367",
   "metadata": {},
   "outputs": [],
   "source": [
    "from sklearn.metrics import confusion_matrix, accuracy_score, precision_score, recall_score, f1_score"
   ]
  },
  {
   "cell_type": "code",
   "execution_count": 34,
   "id": "321e023d",
   "metadata": {},
   "outputs": [
    {
     "data": {
      "text/plain": [
       "array([[78, 19],\n",
       "       [25, 37]], dtype=int64)"
      ]
     },
     "execution_count": 34,
     "metadata": {},
     "output_type": "execute_result"
    }
   ],
   "source": [
    "# 오차행렬 확인(예측치와 실제값 비교)\n",
    "confusion_matrix(Y_test, Y_predict)"
   ]
  },
  {
   "cell_type": "code",
   "execution_count": 35,
   "id": "33cccfde",
   "metadata": {},
   "outputs": [],
   "source": [
    "accuracy = accuracy_score(Y_test, Y_predict)\n",
    "precision = precision_score(Y_test, Y_predict)\n",
    "recall = recall_score(Y_test, Y_predict)\n",
    "f1 = f1_score(Y_test, Y_predict)"
   ]
  },
  {
   "cell_type": "code",
   "execution_count": 36,
   "id": "cfbaa3e8",
   "metadata": {},
   "outputs": [
    {
     "name": "stdout",
     "output_type": "stream",
     "text": [
      "정확도: 0.723, 정밀도: 0.661, 재현율: 0.597, F1: 0.627\n"
     ]
    }
   ],
   "source": [
    "print('정확도: {0:.3f}, 정밀도: {1:.3f}, 재현율: {2:.3f}, F1: {3:.3f}'.format(accuracy, precision, recall, f1))"
   ]
  },
  {
   "cell_type": "code",
   "execution_count": 37,
   "id": "7c51f70b",
   "metadata": {},
   "outputs": [],
   "source": [
    "#직접 데이터 넣고 돌려보기~"
   ]
  }
 ],
 "metadata": {
  "kernelspec": {
   "display_name": "Python 3 (ipykernel)",
   "language": "python",
   "name": "python3"
  },
  "language_info": {
   "codemirror_mode": {
    "name": "ipython",
    "version": 3
   },
   "file_extension": ".py",
   "mimetype": "text/x-python",
   "name": "python",
   "nbconvert_exporter": "python",
   "pygments_lexer": "ipython3",
   "version": "3.9.13"
  }
 },
 "nbformat": 4,
 "nbformat_minor": 5
}
