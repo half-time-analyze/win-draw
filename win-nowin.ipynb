{
 "cells": [
  {
   "cell_type": "code",
   "execution_count": 28,
   "id": "bab6e447",
   "metadata": {},
   "outputs": [],
   "source": [
    "import numpy as np\n",
    "import pandas as pd"
   ]
  },
  {
   "cell_type": "code",
   "execution_count": 29,
   "id": "3f2cef59",
   "metadata": {},
   "outputs": [],
   "source": [
    "soccer_df1 = pd.read_csv('C:/half-time-analyze/win-nonwin/res/soccer.csv', header = 0, engine = 'python')\n",
    "soccer_df2 = pd.read_csv('C:/half-time-analyze/win-nonwin/res/soccer2.csv', header = 0, engine = 'python')\n",
    "soccer_df3 = pd.read_csv('C:/half-time-analyze/win-nonwin/res/soccer3.csv', header = 0, engine = 'python')"
   ]
  },
  {
   "cell_type": "code",
   "execution_count": 30,
   "id": "8d24494f",
   "metadata": {},
   "outputs": [
    {
     "name": "stdout",
     "output_type": "stream",
     "text": [
      "<class 'pandas.core.frame.DataFrame'>\n",
      "Int64Index: 536 entries, 0 to 171\n",
      "Data columns (total 61 columns):\n",
      " #   Column                    Non-Null Count  Dtype  \n",
      "---  ------                    --------------  -----  \n",
      " 0   Match_date                536 non-null    object \n",
      " 1   teamName                  536 non-null    object \n",
      " 2   homeAway                  536 non-null    int64  \n",
      " 3   Ball Possession           530 non-null    float64\n",
      " 4   Goal Attempts             530 non-null    float64\n",
      " 5   Shots On                  530 non-null    float64\n",
      " 6   Shots Off                 530 non-null    float64\n",
      " 7   Blocked Shots             530 non-null    float64\n",
      " 8   Free kick                 530 non-null    float64\n",
      " 9   Offsides                  530 non-null    float64\n",
      " 10  Throw Ins                 530 non-null    float64\n",
      " 11  Saves                     530 non-null    float64\n",
      " 12  Fouls Commited            530 non-null    float64\n",
      " 13  Red Cards                 530 non-null    float64\n",
      " 14  Yellow Cards              530 non-null    float64\n",
      " 15  Assists 1st Half          530 non-null    float64\n",
      " 16  Assists 2nd Half          530 non-null    float64\n",
      " 17  Ball Possession 1st Half  530 non-null    float64\n",
      " 18  Ball Possession 2nd Half  530 non-null    float64\n",
      " 19  Blockes Shots 1st Half    530 non-null    float64\n",
      " 20  Blockes Shots 2nd Half    530 non-null    float64\n",
      " 21  Corners                   530 non-null    float64\n",
      " 22  Corners 1st Half          530 non-null    float64\n",
      " 23  Corners 2nd Half          530 non-null    float64\n",
      " 24  Counter Attacks           530 non-null    float64\n",
      " 25  Counter Attacks 1st Half  530 non-null    float64\n",
      " 26  Counter Attacks 2nd Half  530 non-null    float64\n",
      " 27  Crosses                   530 non-null    float64\n",
      " 28  Crosses 1st Half          530 non-null    float64\n",
      " 29  Crosses 2nd Half          530 non-null    float64\n",
      " 30  Fouls Commited 1st Half   530 non-null    float64\n",
      " 31  Fouls Commited 2nd Half   530 non-null    float64\n",
      " 32  Free kick 1st Half        530 non-null    float64\n",
      " 33  Free kick 2nd Half        530 non-null    float64\n",
      " 34  Goal Attempts 1st Half    528 non-null    float64\n",
      " 35  Goal Attempts 2nd Half    488 non-null    float64\n",
      " 36  Goal Kick                 530 non-null    float64\n",
      " 37  Goal Kick 1st Half        530 non-null    float64\n",
      " 38  Goal Kick 2nd Half        530 non-null    float64\n",
      " 39  Goals 1st Half            530 non-null    float64\n",
      " 40  Goals 2nd Half            530 non-null    float64\n",
      " 41  Offsides 1st Half         530 non-null    float64\n",
      " 42  Offsides 2nd Half         530 non-null    float64\n",
      " 43  Red Cards 1st Half        530 non-null    float64\n",
      " 44  Red Cards 2nd Half        488 non-null    float64\n",
      " 45  Saves 1st Half            530 non-null    float64\n",
      " 46  Saves 2nd Half            530 non-null    float64\n",
      " 47  Shots Off 1st Half        530 non-null    float64\n",
      " 48  Shots Off 2nd Half        530 non-null    float64\n",
      " 49  Shots On 1st Half         530 non-null    float64\n",
      " 50  Shots On 2nd Half         530 non-null    float64\n",
      " 51  Substitute                530 non-null    float64\n",
      " 52  Substitute 1st Half       530 non-null    float64\n",
      " 53  Substitute 2nd Half       530 non-null    float64\n",
      " 54  Throw Ins 1st Half        530 non-null    float64\n",
      " 55  Throw Ins 2nd Half        530 non-null    float64\n",
      " 56  Treatment 1st Half        530 non-null    float64\n",
      " 57  Treatment 2nd Half        530 non-null    float64\n",
      " 58  Yellow Cards 1st Half     530 non-null    float64\n",
      " 59  Yellow Cards 2nd Half     488 non-null    float64\n",
      " 60  Result                    530 non-null    object \n",
      "dtypes: float64(57), int64(1), object(3)\n",
      "memory usage: 259.6+ KB\n"
     ]
    }
   ],
   "source": [
    "soccer_df = pd.concat([soccer_df1, soccer_df2, soccer_df3])\n",
    "soccer_df.info()"
   ]
  },
  {
   "cell_type": "code",
   "execution_count": 31,
   "id": "61fe0768",
   "metadata": {},
   "outputs": [
    {
     "name": "stdout",
     "output_type": "stream",
     "text": [
      "<class 'pandas.core.frame.DataFrame'>\n",
      "Int64Index: 536 entries, 0 to 171\n",
      "Data columns (total 10 columns):\n",
      " #   Column                    Non-Null Count  Dtype  \n",
      "---  ------                    --------------  -----  \n",
      " 0   homeAway                  536 non-null    int64  \n",
      " 1   Ball Possession 1st Half  530 non-null    float64\n",
      " 2   Corners 1st Half          530 non-null    float64\n",
      " 3   Fouls Commited 1st Half   530 non-null    float64\n",
      " 4   Goals 1st Half            530 non-null    float64\n",
      " 5   Red Cards 1st Half        530 non-null    float64\n",
      " 6   Shots Off 1st Half        530 non-null    float64\n",
      " 7   Shots On 1st Half         530 non-null    float64\n",
      " 8   Yellow Cards 1st Half     530 non-null    float64\n",
      " 9   Result                    530 non-null    object \n",
      "dtypes: float64(8), int64(1), object(1)\n",
      "memory usage: 46.1+ KB\n"
     ]
    }
   ],
   "source": [
    "soccer_half_df = soccer_df[['homeAway', 'Ball Possession 1st Half', 'Corners 1st Half', 'Fouls Commited 1st Half', 'Goals 1st Half', 'Red Cards 1st Half', 'Shots Off 1st Half','Shots On 1st Half', 'Yellow Cards 1st Half', 'Result']]\n",
    "soccer_half_df.info()"
   ]
  },
  {
   "cell_type": "code",
   "execution_count": 32,
   "id": "a88aed38",
   "metadata": {},
   "outputs": [
    {
     "data": {
      "text/plain": [
       "homeAway                    0\n",
       "Ball Possession 1st Half    0\n",
       "Corners 1st Half            0\n",
       "Fouls Commited 1st Half     0\n",
       "Goals 1st Half              0\n",
       "Red Cards 1st Half          0\n",
       "Shots Off 1st Half          0\n",
       "Shots On 1st Half           0\n",
       "Yellow Cards 1st Half       0\n",
       "Result                      0\n",
       "dtype: int64"
      ]
     },
     "execution_count": 32,
     "metadata": {},
     "output_type": "execute_result"
    }
   ],
   "source": [
    "soccer_half_df2 = soccer_half_df.dropna(axis = 0)\n",
    "soccer_half_df2.isnull().sum()"
   ]
  },
  {
   "cell_type": "markdown",
   "id": "8c64f814",
   "metadata": {},
   "source": [
    "- 결측치 없음 확인"
   ]
  },
  {
   "cell_type": "code",
   "execution_count": 33,
   "id": "5626d363",
   "metadata": {},
   "outputs": [],
   "source": [
    "win = (soccer_half_df2['Result'] == 'W')\n",
    "draw = (soccer_half_df2['Result'] == 'D')\n",
    "lose = (soccer_half_df2['Result'] == 'L')\n",
    "soccer_half_df2.loc[win, 'Result'] = 1\n",
    "soccer_half_df2.loc[draw, 'Result'] = 0\n",
    "soccer_half_df2.loc[lose, 'Result'] = 0\n",
    "#또는 soccer_half_df2['Result'] = soccer_half_df2['Result'].map({'W':1, 'D':0, 'L'})\n",
    "\n",
    "home = (soccer_half_df2['homeAway'] == 1)\n",
    "soccer_half_df2.loc[home, 'homeAway'] = 0\n",
    "\n",
    "away = (soccer_half_df2['homeAway'] == 2)\n",
    "soccer_half_df2.loc[away, 'homeAway'] = 1"
   ]
  },
  {
   "cell_type": "code",
   "execution_count": 34,
   "id": "d4f0ec51",
   "metadata": {},
   "outputs": [],
   "source": [
    "#승/비승 여부에 대한 데이터는 타겟 데이터(target data)이므로 target이라는 변수를 따로 생성하여 따로 저장해준다. \n",
    "# 승,무,패 데이터는 모델 훈련에 불필요한 데이터 이므로 삭제한다. \n",
    "\n",
    "#타겟 데이터 따로 저장\n",
    "target = soccer_half_df2['Result']\n",
    "#승, 무, 패 데이터 삭제 -> 이미 대체해서 지울 필요 없음. "
   ]
  },
  {
   "cell_type": "code",
   "execution_count": 52,
   "id": "d28146c1",
   "metadata": {},
   "outputs": [
    {
     "name": "stdout",
     "output_type": "stream",
     "text": [
      "<class 'pandas.core.frame.DataFrame'>\n",
      "Int64Index: 530 entries, 0 to 171\n",
      "Data columns (total 10 columns):\n",
      " #   Column                    Non-Null Count  Dtype  \n",
      "---  ------                    --------------  -----  \n",
      " 0   homeAway                  530 non-null    int64  \n",
      " 1   Ball Possession 1st Half  530 non-null    float64\n",
      " 2   Corners 1st Half          530 non-null    float64\n",
      " 3   Fouls Commited 1st Half   530 non-null    float64\n",
      " 4   Goals 1st Half            530 non-null    float64\n",
      " 5   Red Cards 1st Half        530 non-null    float64\n",
      " 6   Shots Off 1st Half        530 non-null    float64\n",
      " 7   Shots On 1st Half         530 non-null    float64\n",
      " 8   Yellow Cards 1st Half     530 non-null    float64\n",
      " 9   Result                    530 non-null    object \n",
      "dtypes: float64(8), int64(1), object(1)\n",
      "memory usage: 45.5+ KB\n"
     ]
    }
   ],
   "source": [
    "soccer_half_df2.info()"
   ]
  },
  {
   "cell_type": "code",
   "execution_count": 53,
   "id": "11ffc830",
   "metadata": {},
   "outputs": [
    {
     "name": "stderr",
     "output_type": "stream",
     "text": [
      "C:\\Users\\srsr1\\AppData\\Local\\Temp\\ipykernel_30524\\179968242.py:2: SettingWithCopyWarning: \n",
      "A value is trying to be set on a copy of a slice from a DataFrame.\n",
      "Try using .loc[row_indexer,col_indexer] = value instead\n",
      "\n",
      "See the caveats in the documentation: https://pandas.pydata.org/pandas-docs/stable/user_guide/indexing.html#returning-a-view-versus-a-copy\n",
      "  soccer_half_df2['Result'] = soccer_half_df2['Result'].astype(int)\n"
     ]
    }
   ],
   "source": [
    "#result의 자료형 변경하기\n",
    "soccer_half_df2['Result'] = soccer_half_df2['Result'].astype(int)"
   ]
  },
  {
   "cell_type": "code",
   "execution_count": 54,
   "id": "dcfc607d",
   "metadata": {},
   "outputs": [
    {
     "name": "stdout",
     "output_type": "stream",
     "text": [
      "<class 'pandas.core.frame.DataFrame'>\n",
      "Int64Index: 530 entries, 0 to 171\n",
      "Data columns (total 10 columns):\n",
      " #   Column                    Non-Null Count  Dtype  \n",
      "---  ------                    --------------  -----  \n",
      " 0   homeAway                  530 non-null    int64  \n",
      " 1   Ball Possession 1st Half  530 non-null    float64\n",
      " 2   Corners 1st Half          530 non-null    float64\n",
      " 3   Fouls Commited 1st Half   530 non-null    float64\n",
      " 4   Goals 1st Half            530 non-null    float64\n",
      " 5   Red Cards 1st Half        530 non-null    float64\n",
      " 6   Shots Off 1st Half        530 non-null    float64\n",
      " 7   Shots On 1st Half         530 non-null    float64\n",
      " 8   Yellow Cards 1st Half     530 non-null    float64\n",
      " 9   Result                    530 non-null    int32  \n",
      "dtypes: float64(8), int32(1), int64(1)\n",
      "memory usage: 43.5 KB\n"
     ]
    }
   ],
   "source": [
    "soccer_half_df2.info()"
   ]
  },
  {
   "cell_type": "code",
   "execution_count": 73,
   "id": "d3e37727",
   "metadata": {},
   "outputs": [],
   "source": [
    "#input 데이터에 종속변수가 들어가 있어서 종속변수를 제거\n",
    "soccer_half_df2 = soccer_half_df2.drop(columns=['Result'], axis=1)"
   ]
  },
  {
   "cell_type": "code",
   "execution_count": 74,
   "id": "c5bd94d9",
   "metadata": {},
   "outputs": [],
   "source": [
    "from sklearn.linear_model import LogisticRegression\n",
    "from sklearn.model_selection import train_test_split"
   ]
  },
  {
   "cell_type": "code",
   "execution_count": 122,
   "id": "21e1b78f",
   "metadata": {},
   "outputs": [],
   "source": [
    "#훈련 데이터와 테스트 데이터 분리\n",
    "train_input, test_input, train_target, test_target = train_test_split(soccer_half_df2, target, test_size = 0.4, random_state = 0)"
   ]
  },
  {
   "cell_type": "code",
   "execution_count": 123,
   "id": "3d28dc83",
   "metadata": {},
   "outputs": [
    {
     "name": "stdout",
     "output_type": "stream",
     "text": [
      "(318, 9) (212, 9) (318,) (212,)\n"
     ]
    }
   ],
   "source": [
    "print(train_input.shape, test_input.shape, train_target.shape, test_target.shape)"
   ]
  },
  {
   "cell_type": "code",
   "execution_count": 124,
   "id": "bf659df7",
   "metadata": {},
   "outputs": [
    {
     "name": "stdout",
     "output_type": "stream",
     "text": [
      "<class 'pandas.core.series.Series'>\n",
      "Int64Index: 318 entries, 177 to 130\n",
      "Series name: Result\n",
      "Non-Null Count  Dtype \n",
      "--------------  ----- \n",
      "318 non-null    object\n",
      "dtypes: object(1)\n",
      "memory usage: 5.0+ KB\n"
     ]
    }
   ],
   "source": [
    "train_target.info()"
   ]
  },
  {
   "cell_type": "code",
   "execution_count": 125,
   "id": "d542a8a7",
   "metadata": {},
   "outputs": [],
   "source": [
    "#target 자료형 변경\n",
    "train_target = train_target.astype(int)\n",
    "test_target = test_target.astype(int)"
   ]
  },
  {
   "cell_type": "code",
   "execution_count": 126,
   "id": "5e4d239d",
   "metadata": {},
   "outputs": [
    {
     "name": "stdout",
     "output_type": "stream",
     "text": [
      "<class 'pandas.core.series.Series'>\n",
      "Int64Index: 318 entries, 177 to 130\n",
      "Series name: Result\n",
      "Non-Null Count  Dtype\n",
      "--------------  -----\n",
      "318 non-null    int32\n",
      "dtypes: int32(1)\n",
      "memory usage: 3.7 KB\n"
     ]
    }
   ],
   "source": [
    "train_target.info()"
   ]
  },
  {
   "cell_type": "code",
   "execution_count": 127,
   "id": "d6b04cc2",
   "metadata": {},
   "outputs": [
    {
     "data": {
      "text/plain": [
       "LogisticRegression(max_iter=10000)"
      ]
     },
     "execution_count": 127,
     "metadata": {},
     "output_type": "execute_result"
    }
   ],
   "source": [
    "lr_soccer_half = LogisticRegression(max_iter=10000) #max-iter 확인\n",
    "lr_soccer_half.fit(train_input, train_target)"
   ]
  },
  {
   "cell_type": "code",
   "execution_count": 128,
   "id": "4fba55b0",
   "metadata": {},
   "outputs": [
    {
     "name": "stdout",
     "output_type": "stream",
     "text": [
      "[1 0 1 0 1 1 0 1 1 1 0 0 1 0 0 0 1 1 1 0 0 1 1 1 0 0 1 0 0 1 1 0 0 0 0 1 0\n",
      " 0 0 0 0 0 0 0 0 1 0 0 0 0 0 0 0 0 0 0 0 0 0 0 0 1 0 0 0 0 0 0 1 0 0 0 0 0\n",
      " 0 1 0 1 0 0 0 0 0 1 0 0 0 0 0 0 0 0 0 1 0 0 0 0 0 1 0 1 0 1 0 0 1 0 0 1 0\n",
      " 0 0 0 0 0 0 0 0 0 1 0 0 0 0 0 1 1 0 0 1 1 0 0 0 0 1 0 1 0 1 0 1 1 1 0 0 0\n",
      " 1 0 0 0 1 0 1 1 0 0 0 0 1 0 0 0 0 1 0 0 1 0 1 0 0 0 0 0 0 1 1 1 0 0 0 0 0\n",
      " 0 0 0 0 0 0 1 0 0 0 1 0 0 1 0 1 0 0 0 0 1 1 1 1 0 1 0]\n"
     ]
    }
   ],
   "source": [
    "#예측결과 출력\n",
    "Y_predict = lr_soccer_half.predict(test_input)\n",
    "print(Y_predict)"
   ]
  },
  {
   "cell_type": "code",
   "execution_count": 129,
   "id": "8e97115e",
   "metadata": {},
   "outputs": [
    {
     "name": "stdout",
     "output_type": "stream",
     "text": [
      "Empty DataFrame\n",
      "Columns: [homeAway, Ball Possession 1st Half, Corners 1st Half, Fouls Commited 1st Half, Goals 1st Half, Red Cards 1st Half, Shots Off 1st Half, Shots On 1st Half, Yellow Cards 1st Half]\n",
      "Index: []\n"
     ]
    }
   ],
   "source": [
    "print(soccer_half_df2.head(0))"
   ]
  },
  {
   "cell_type": "code",
   "execution_count": 130,
   "id": "18bcb4fb",
   "metadata": {},
   "outputs": [
    {
     "data": {
      "text/plain": [
       "array([[-0.5165083 ,  0.03423098,  0.17925211,  0.07012245,  1.39070622,\n",
       "        -0.45924528,  0.1176652 , -0.14811818, -0.5236556 ]])"
      ]
     },
     "execution_count": 130,
     "metadata": {},
     "output_type": "execute_result"
    }
   ],
   "source": [
    "lr_soccer_half.coef_"
   ]
  },
  {
   "cell_type": "code",
   "execution_count": 131,
   "id": "c75dcc7d",
   "metadata": {},
   "outputs": [
    {
     "data": {
      "text/plain": [
       "array([-3.50634276])"
      ]
     },
     "execution_count": 131,
     "metadata": {},
     "output_type": "execute_result"
    }
   ],
   "source": [
    "lr_soccer_half.intercept_"
   ]
  },
  {
   "cell_type": "code",
   "execution_count": 132,
   "id": "7d5e0fd2",
   "metadata": {},
   "outputs": [],
   "source": [
    "from sklearn.metrics import confusion_matrix, accuracy_score, precision_score, recall_score, f1_score"
   ]
  },
  {
   "cell_type": "code",
   "execution_count": 133,
   "id": "550ff768",
   "metadata": {},
   "outputs": [
    {
     "data": {
      "text/plain": [
       "array([[110,  10],\n",
       "       [ 41,  51]], dtype=int64)"
      ]
     },
     "execution_count": 133,
     "metadata": {},
     "output_type": "execute_result"
    }
   ],
   "source": [
    "confusion_matrix(test_target, Y_predict)"
   ]
  },
  {
   "cell_type": "code",
   "execution_count": 134,
   "id": "2454482a",
   "metadata": {},
   "outputs": [],
   "source": [
    "accuracy = accuracy_score(test_target, Y_predict)\n",
    "precision = precision_score(test_target, Y_predict)\n",
    "recall = recall_score(test_target, Y_predict)\n",
    "f1 = f1_score(test_target, Y_predict)"
   ]
  },
  {
   "cell_type": "code",
   "execution_count": 135,
   "id": "12054c3e",
   "metadata": {},
   "outputs": [
    {
     "name": "stdout",
     "output_type": "stream",
     "text": [
      "정확도: 0.759, 정밀도: 0.836, 재현율: 0.554, F1: 0.667\n"
     ]
    }
   ],
   "source": [
    "print('정확도: {0:.3f}, 정밀도: {1:.3f}, 재현율: {2:.3f}, F1: {3:.3f}'.format(accuracy, precision, recall, f1))"
   ]
  },
  {
   "cell_type": "markdown",
   "id": "f7578ad2",
   "metadata": {},
   "source": [
    "[트러블슈팅]\n",
    "- 정확도가ㅎ 계속 1이 나온다. \n",
    "- data를 잘못 설정한 것 같다. \n",
    "- 표준화 전에 타겟 데이터를 target이라는 변수를 따로 생성하여 따로 저장해준다. \n",
    "- 다르게 설정해줘야 됐다. \n",
    "- 데이터를 나눌 때 자료형도 확인/변경해야 하고 , input 변수에 종속변수인 'Result'를 수동으로 빼주니 결과값이 도출되었다..."
   ]
  }
 ],
 "metadata": {
  "kernelspec": {
   "display_name": "Python 3 (ipykernel)",
   "language": "python",
   "name": "python3"
  },
  "language_info": {
   "codemirror_mode": {
    "name": "ipython",
    "version": 3
   },
   "file_extension": ".py",
   "mimetype": "text/x-python",
   "name": "python",
   "nbconvert_exporter": "python",
   "pygments_lexer": "ipython3",
   "version": "3.9.13"
  }
 },
 "nbformat": 4,
 "nbformat_minor": 5
}
